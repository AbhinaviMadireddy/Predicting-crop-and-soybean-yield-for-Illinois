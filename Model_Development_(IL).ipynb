{
  "nbformat": 4,
  "nbformat_minor": 0,
  "metadata": {
    "colab": {
      "name": "Model_Development (IL).ipynb",
      "provenance": [],
      "collapsed_sections": [
        "7CXwU4cxxDTx",
        "W2M4EGRiueKi"
      ]
    },
    "kernelspec": {
      "name": "python3",
      "display_name": "Python 3"
    }
  },
  "cells": [
    {
      "cell_type": "markdown",
      "metadata": {
        "id": "Ek__RFvIN9sK"
      },
      "source": [
        "### Importing Libraries"
      ]
    },
    {
      "cell_type": "code",
      "metadata": {
        "id": "80K7EZ2lET0y",
        "outputId": "7b0a3f3b-c672-4cfd-ae51-b75b11b26ad5",
        "colab": {
          "base_uri": "https://localhost:8080/",
          "height": 245
        }
      },
      "source": [
        "from datetime import date\n",
        "import os\n",
        "import numpy as np\n",
        "import pandas as pd\n",
        "#!pip install geopandas\n",
        "import geopandas as gpd\n",
        "\n",
        "from sklearn.model_selection import KFold\n",
        "\n",
        "import seaborn as sns\n",
        "from matplotlib import pyplot as plt\n",
        "\n",
        "from sklearn import preprocessing\n",
        "from sklearn.model_selection import train_test_split\n",
        "from sklearn.linear_model import LinearRegression\n",
        "from sklearn.metrics import mean_squared_error\n",
        "from sklearn import metrics\n",
        "from sklearn.model_selection import cross_val_score\n",
        "from sklearn.decomposition import PCA\n",
        "from sklearn import ensemble\n",
        "from sklearn.metrics import r2_score\n",
        "\n",
        "# To avoid unnecessary warnings in the code\n",
        "import warnings\n",
        "warnings.filterwarnings('ignore')"
      ],
      "execution_count": null,
      "outputs": [
        {
          "output_type": "stream",
          "text": [
            "Requirement already satisfied: geopandas in /usr/local/lib/python3.6/dist-packages (0.7.0)\n",
            "Requirement already satisfied: fiona in /usr/local/lib/python3.6/dist-packages (from geopandas) (1.8.13.post1)\n",
            "Requirement already satisfied: pandas>=0.23.0 in /usr/local/lib/python3.6/dist-packages (from geopandas) (1.0.3)\n",
            "Requirement already satisfied: shapely in /usr/local/lib/python3.6/dist-packages (from geopandas) (1.7.0)\n",
            "Requirement already satisfied: pyproj>=2.2.0 in /usr/local/lib/python3.6/dist-packages (from geopandas) (2.6.1.post1)\n",
            "Requirement already satisfied: cligj>=0.5 in /usr/local/lib/python3.6/dist-packages (from fiona->geopandas) (0.5.0)\n",
            "Requirement already satisfied: click-plugins>=1.0 in /usr/local/lib/python3.6/dist-packages (from fiona->geopandas) (1.1.1)\n",
            "Requirement already satisfied: munch in /usr/local/lib/python3.6/dist-packages (from fiona->geopandas) (2.5.0)\n",
            "Requirement already satisfied: click<8,>=4.0 in /usr/local/lib/python3.6/dist-packages (from fiona->geopandas) (7.1.2)\n",
            "Requirement already satisfied: six>=1.7 in /usr/local/lib/python3.6/dist-packages (from fiona->geopandas) (1.12.0)\n",
            "Requirement already satisfied: attrs>=17 in /usr/local/lib/python3.6/dist-packages (from fiona->geopandas) (19.3.0)\n",
            "Requirement already satisfied: pytz>=2017.2 in /usr/local/lib/python3.6/dist-packages (from pandas>=0.23.0->geopandas) (2018.9)\n",
            "Requirement already satisfied: numpy>=1.13.3 in /usr/local/lib/python3.6/dist-packages (from pandas>=0.23.0->geopandas) (1.18.3)\n",
            "Requirement already satisfied: python-dateutil>=2.6.1 in /usr/local/lib/python3.6/dist-packages (from pandas>=0.23.0->geopandas) (2.8.1)\n"
          ],
          "name": "stdout"
        }
      ]
    },
    {
      "cell_type": "markdown",
      "metadata": {
        "id": "WzdvecyhODmJ"
      },
      "source": [
        "### Mounting Google Drive"
      ]
    },
    {
      "cell_type": "code",
      "metadata": {
        "id": "Gtcg5hspEgwi",
        "outputId": "87076922-39c5-483d-e5fa-31dea25042a7",
        "colab": {
          "base_uri": "https://localhost:8080/",
          "height": 118
        }
      },
      "source": [
        "try:\n",
        "  from google.colab import drive\n",
        "  IN_COLAB = True\n",
        "except:\n",
        "  IN_COLAB = False \n",
        "  os.chdir(\"F:\\My Drive\\Shared\\CS 498 Projects\\Final Project\\Data\")\n",
        "if IN_COLAB:\n",
        "  drive.mount('/content/drive')\n",
        "  os.chdir(\"/content/drive/My Drive/Shared/CS 498 Projects/Final Project/Data\")\n",
        "df_data = pd.read_csv('Illinois/Cleaned_Weather/all_data@IL_1950-2019.csv',\n",
        "                      sep=',',na_values=-99)"
      ],
      "execution_count": null,
      "outputs": [
        {
          "output_type": "stream",
          "text": [
            "Go to this URL in a browser: https://accounts.google.com/o/oauth2/auth?client_id=947318989803-6bn6qk8qdgf4n4g3pfee6491hc0brc4i.apps.googleusercontent.com&redirect_uri=urn%3aietf%3awg%3aoauth%3a2.0%3aoob&response_type=code&scope=email%20https%3a%2f%2fwww.googleapis.com%2fauth%2fdocs.test%20https%3a%2f%2fwww.googleapis.com%2fauth%2fdrive%20https%3a%2f%2fwww.googleapis.com%2fauth%2fdrive.photos.readonly%20https%3a%2f%2fwww.googleapis.com%2fauth%2fpeopleapi.readonly\n",
            "\n",
            "Enter your authorization code:\n",
            "··········\n",
            "Mounted at /content/drive\n"
          ],
          "name": "stdout"
        }
      ]
    },
    {
      "cell_type": "markdown",
      "metadata": {
        "id": "J7rLQ7BlOmj9"
      },
      "source": [
        "### Adding latitude and longitude of counties' centroid as columns"
      ]
    },
    {
      "cell_type": "code",
      "metadata": {
        "id": "ri5UoXPG-AGE"
      },
      "source": [
        "gdf = gpd.read_file('Illinois/GIS Files/Illinois_Counties_GCS_WGS84.shp')\n",
        "adjacent={}\n",
        "Latitude=[]\n",
        "Longitude=[]\n",
        "for i in range(len(gdf.index)):\n",
        " Latitude.append(gdf.iloc[i].geometry.centroid.y)\n",
        " Longitude.append(gdf.iloc[i].geometry.centroid.x)\n",
        "df_county_lat = pd.DataFrame({'Latitude': Latitude,'Longitude':Longitude},\n",
        "                             index=gdf.iloc[:].COUNTY_NAM)"
      ],
      "execution_count": null,
      "outputs": []
    },
    {
      "cell_type": "code",
      "metadata": {
        "id": "pp5oc_mdESBt",
        "outputId": "6a3be0b7-a202-43db-ee75-2963f56427e8",
        "colab": {
          "base_uri": "https://localhost:8080/",
          "height": 391
        }
      },
      "source": [
        "df_county_lat['County'] = df_county_lat.index\n",
        "df_data=pd.merge(df_data,df_county_lat)\n",
        "df_data"
      ],
      "execution_count": null,
      "outputs": [
        {
          "output_type": "execute_result",
          "data": {
            "text/html": [
              "<div>\n",
              "<style scoped>\n",
              "    .dataframe tbody tr th:only-of-type {\n",
              "        vertical-align: middle;\n",
              "    }\n",
              "\n",
              "    .dataframe tbody tr th {\n",
              "        vertical-align: top;\n",
              "    }\n",
              "\n",
              "    .dataframe thead th {\n",
              "        text-align: right;\n",
              "    }\n",
              "</style>\n",
              "<table border=\"1\" class=\"dataframe\">\n",
              "  <thead>\n",
              "    <tr style=\"text-align: right;\">\n",
              "      <th></th>\n",
              "      <th>Year</th>\n",
              "      <th>County</th>\n",
              "      <th>SeasonalPrep</th>\n",
              "      <th>SeasonalTmax</th>\n",
              "      <th>SeasonalTmin</th>\n",
              "      <th>SeasonalAvgTmax</th>\n",
              "      <th>SeasonalAvgTmin</th>\n",
              "      <th>WetDays</th>\n",
              "      <th>DaysA30</th>\n",
              "      <th>DaysB10</th>\n",
              "      <th>DaysB_2</th>\n",
              "      <th>GDD</th>\n",
              "      <th>Value_soybean</th>\n",
              "      <th>Value_corn</th>\n",
              "      <th>Latitude</th>\n",
              "      <th>Longitude</th>\n",
              "    </tr>\n",
              "  </thead>\n",
              "  <tbody>\n",
              "    <tr>\n",
              "      <th>0</th>\n",
              "      <td>1950</td>\n",
              "      <td>ADAMS</td>\n",
              "      <td>481.046667</td>\n",
              "      <td>35.023333</td>\n",
              "      <td>-0.991667</td>\n",
              "      <td>25.564627</td>\n",
              "      <td>13.324800</td>\n",
              "      <td>57</td>\n",
              "      <td>28</td>\n",
              "      <td>42</td>\n",
              "      <td>0</td>\n",
              "      <td>2708.500834</td>\n",
              "      <td>28.0</td>\n",
              "      <td>55.0</td>\n",
              "      <td>39.987850</td>\n",
              "      <td>-91.188437</td>\n",
              "    </tr>\n",
              "    <tr>\n",
              "      <th>1</th>\n",
              "      <td>1951</td>\n",
              "      <td>ADAMS</td>\n",
              "      <td>513.565000</td>\n",
              "      <td>36.751667</td>\n",
              "      <td>-2.735000</td>\n",
              "      <td>25.901047</td>\n",
              "      <td>14.245191</td>\n",
              "      <td>66</td>\n",
              "      <td>42</td>\n",
              "      <td>39</td>\n",
              "      <td>1</td>\n",
              "      <td>2792.585834</td>\n",
              "      <td>28.0</td>\n",
              "      <td>60.0</td>\n",
              "      <td>39.987850</td>\n",
              "      <td>-91.188437</td>\n",
              "    </tr>\n",
              "    <tr>\n",
              "      <th>2</th>\n",
              "      <td>1952</td>\n",
              "      <td>ADAMS</td>\n",
              "      <td>496.356667</td>\n",
              "      <td>38.963333</td>\n",
              "      <td>-3.333333</td>\n",
              "      <td>27.672204</td>\n",
              "      <td>14.533133</td>\n",
              "      <td>52</td>\n",
              "      <td>74</td>\n",
              "      <td>43</td>\n",
              "      <td>3</td>\n",
              "      <td>2917.287500</td>\n",
              "      <td>27.0</td>\n",
              "      <td>59.0</td>\n",
              "      <td>39.987850</td>\n",
              "      <td>-91.188437</td>\n",
              "    </tr>\n",
              "    <tr>\n",
              "      <th>3</th>\n",
              "      <td>1953</td>\n",
              "      <td>ADAMS</td>\n",
              "      <td>334.023333</td>\n",
              "      <td>38.981667</td>\n",
              "      <td>-3.941667</td>\n",
              "      <td>28.367377</td>\n",
              "      <td>14.761357</td>\n",
              "      <td>47</td>\n",
              "      <td>86</td>\n",
              "      <td>44</td>\n",
              "      <td>2</td>\n",
              "      <td>2947.965001</td>\n",
              "      <td>22.5</td>\n",
              "      <td>52.0</td>\n",
              "      <td>39.987850</td>\n",
              "      <td>-91.188437</td>\n",
              "    </tr>\n",
              "    <tr>\n",
              "      <th>4</th>\n",
              "      <td>1954</td>\n",
              "      <td>ADAMS</td>\n",
              "      <td>622.691667</td>\n",
              "      <td>43.956667</td>\n",
              "      <td>0.105000</td>\n",
              "      <td>28.192687</td>\n",
              "      <td>15.860492</td>\n",
              "      <td>67</td>\n",
              "      <td>82</td>\n",
              "      <td>35</td>\n",
              "      <td>0</td>\n",
              "      <td>3000.706667</td>\n",
              "      <td>25.5</td>\n",
              "      <td>46.0</td>\n",
              "      <td>39.987850</td>\n",
              "      <td>-91.188437</td>\n",
              "    </tr>\n",
              "    <tr>\n",
              "      <th>...</th>\n",
              "      <td>...</td>\n",
              "      <td>...</td>\n",
              "      <td>...</td>\n",
              "      <td>...</td>\n",
              "      <td>...</td>\n",
              "      <td>...</td>\n",
              "      <td>...</td>\n",
              "      <td>...</td>\n",
              "      <td>...</td>\n",
              "      <td>...</td>\n",
              "      <td>...</td>\n",
              "      <td>...</td>\n",
              "      <td>...</td>\n",
              "      <td>...</td>\n",
              "      <td>...</td>\n",
              "      <td>...</td>\n",
              "    </tr>\n",
              "    <tr>\n",
              "      <th>7135</th>\n",
              "      <td>2015</td>\n",
              "      <td>WOODFORD</td>\n",
              "      <td>824.823070</td>\n",
              "      <td>35.555556</td>\n",
              "      <td>-2.222222</td>\n",
              "      <td>25.933515</td>\n",
              "      <td>13.556466</td>\n",
              "      <td>71</td>\n",
              "      <td>29</td>\n",
              "      <td>41</td>\n",
              "      <td>1</td>\n",
              "      <td>2767.777778</td>\n",
              "      <td>63.4</td>\n",
              "      <td>201.0</td>\n",
              "      <td>40.788316</td>\n",
              "      <td>-89.211374</td>\n",
              "    </tr>\n",
              "    <tr>\n",
              "      <th>7136</th>\n",
              "      <td>2016</td>\n",
              "      <td>WOODFORD</td>\n",
              "      <td>802.973224</td>\n",
              "      <td>34.722222</td>\n",
              "      <td>1.388889</td>\n",
              "      <td>27.014268</td>\n",
              "      <td>14.822404</td>\n",
              "      <td>68</td>\n",
              "      <td>58</td>\n",
              "      <td>39</td>\n",
              "      <td>0</td>\n",
              "      <td>2927.222223</td>\n",
              "      <td>67.0</td>\n",
              "      <td>232.8</td>\n",
              "      <td>40.788316</td>\n",
              "      <td>-89.211374</td>\n",
              "    </tr>\n",
              "    <tr>\n",
              "      <th>7137</th>\n",
              "      <td>2017</td>\n",
              "      <td>WOODFORD</td>\n",
              "      <td>557.645509</td>\n",
              "      <td>35.833333</td>\n",
              "      <td>0.277778</td>\n",
              "      <td>26.739526</td>\n",
              "      <td>13.501821</td>\n",
              "      <td>54</td>\n",
              "      <td>50</td>\n",
              "      <td>42</td>\n",
              "      <td>0</td>\n",
              "      <td>2782.222223</td>\n",
              "      <td>60.4</td>\n",
              "      <td>214.2</td>\n",
              "      <td>40.788316</td>\n",
              "      <td>-89.211374</td>\n",
              "    </tr>\n",
              "    <tr>\n",
              "      <th>7138</th>\n",
              "      <td>2018</td>\n",
              "      <td>WOODFORD</td>\n",
              "      <td>534.915973</td>\n",
              "      <td>35.833333</td>\n",
              "      <td>-4.166667</td>\n",
              "      <td>27.275349</td>\n",
              "      <td>14.704007</td>\n",
              "      <td>59</td>\n",
              "      <td>65</td>\n",
              "      <td>33</td>\n",
              "      <td>4</td>\n",
              "      <td>2940.138889</td>\n",
              "      <td>64.7</td>\n",
              "      <td>223.7</td>\n",
              "      <td>40.788316</td>\n",
              "      <td>-89.211374</td>\n",
              "    </tr>\n",
              "    <tr>\n",
              "      <th>7139</th>\n",
              "      <td>2019</td>\n",
              "      <td>WOODFORD</td>\n",
              "      <td>820.735081</td>\n",
              "      <td>34.722222</td>\n",
              "      <td>-0.555556</td>\n",
              "      <td>26.006375</td>\n",
              "      <td>13.951123</td>\n",
              "      <td>76</td>\n",
              "      <td>40</td>\n",
              "      <td>41</td>\n",
              "      <td>0</td>\n",
              "      <td>2786.111112</td>\n",
              "      <td>61.4</td>\n",
              "      <td>183.6</td>\n",
              "      <td>40.788316</td>\n",
              "      <td>-89.211374</td>\n",
              "    </tr>\n",
              "  </tbody>\n",
              "</table>\n",
              "<p>7140 rows × 16 columns</p>\n",
              "</div>"
            ],
            "text/plain": [
              "      Year    County  SeasonalPrep  ...  Value_corn   Latitude  Longitude\n",
              "0     1950     ADAMS    481.046667  ...        55.0  39.987850 -91.188437\n",
              "1     1951     ADAMS    513.565000  ...        60.0  39.987850 -91.188437\n",
              "2     1952     ADAMS    496.356667  ...        59.0  39.987850 -91.188437\n",
              "3     1953     ADAMS    334.023333  ...        52.0  39.987850 -91.188437\n",
              "4     1954     ADAMS    622.691667  ...        46.0  39.987850 -91.188437\n",
              "...    ...       ...           ...  ...         ...        ...        ...\n",
              "7135  2015  WOODFORD    824.823070  ...       201.0  40.788316 -89.211374\n",
              "7136  2016  WOODFORD    802.973224  ...       232.8  40.788316 -89.211374\n",
              "7137  2017  WOODFORD    557.645509  ...       214.2  40.788316 -89.211374\n",
              "7138  2018  WOODFORD    534.915973  ...       223.7  40.788316 -89.211374\n",
              "7139  2019  WOODFORD    820.735081  ...       183.6  40.788316 -89.211374\n",
              "\n",
              "[7140 rows x 16 columns]"
            ]
          },
          "metadata": {
            "tags": []
          },
          "execution_count": 4
        }
      ]
    },
    {
      "cell_type": "code",
      "metadata": {
        "id": "4DFT_cmF0aKG"
      },
      "source": [
        "df_County_main=pd.DataFrame()\n",
        "for county in df_data[\"County\"]:\n",
        "  df_County=df_data[df_data[\"County\"]==county]\n",
        "  df_County[\"Value_soybean\"]=df_County[\"Value_soybean\"] - df_County[\"Value_soybean\"].shift(-1)\n",
        "  # break\n",
        "  df_County_main = pd.concat([df_County_main, df_County], axis=0)\n",
        "  # break\n",
        "# df_County_main"
      ],
      "execution_count": null,
      "outputs": []
    },
    {
      "cell_type": "code",
      "metadata": {
        "id": "FDlnYh_s5Iwg",
        "outputId": "a83ffac3-f014-4b62-bd16-357be6cb2080",
        "colab": {
          "base_uri": "https://localhost:8080/",
          "height": 391
        }
      },
      "source": [
        "df_soybean=df_County_main.drop(\"Value_corn\",axis=1)\n",
        "df_soybean.dropna(inplace=True)\n",
        "df_soybean"
      ],
      "execution_count": null,
      "outputs": [
        {
          "output_type": "execute_result",
          "data": {
            "text/html": [
              "<div>\n",
              "<style scoped>\n",
              "    .dataframe tbody tr th:only-of-type {\n",
              "        vertical-align: middle;\n",
              "    }\n",
              "\n",
              "    .dataframe tbody tr th {\n",
              "        vertical-align: top;\n",
              "    }\n",
              "\n",
              "    .dataframe thead th {\n",
              "        text-align: right;\n",
              "    }\n",
              "</style>\n",
              "<table border=\"1\" class=\"dataframe\">\n",
              "  <thead>\n",
              "    <tr style=\"text-align: right;\">\n",
              "      <th></th>\n",
              "      <th>Year</th>\n",
              "      <th>County</th>\n",
              "      <th>SeasonalPrep</th>\n",
              "      <th>SeasonalTmax</th>\n",
              "      <th>SeasonalTmin</th>\n",
              "      <th>SeasonalAvgTmax</th>\n",
              "      <th>SeasonalAvgTmin</th>\n",
              "      <th>WetDays</th>\n",
              "      <th>DaysA30</th>\n",
              "      <th>DaysB10</th>\n",
              "      <th>DaysB_2</th>\n",
              "      <th>GDD</th>\n",
              "      <th>Value_soybean</th>\n",
              "      <th>Latitude</th>\n",
              "      <th>Longitude</th>\n",
              "    </tr>\n",
              "  </thead>\n",
              "  <tbody>\n",
              "    <tr>\n",
              "      <th>0</th>\n",
              "      <td>1950</td>\n",
              "      <td>ADAMS</td>\n",
              "      <td>481.046667</td>\n",
              "      <td>35.023333</td>\n",
              "      <td>-0.991667</td>\n",
              "      <td>25.564627</td>\n",
              "      <td>13.324800</td>\n",
              "      <td>57</td>\n",
              "      <td>28</td>\n",
              "      <td>42</td>\n",
              "      <td>0</td>\n",
              "      <td>2708.500834</td>\n",
              "      <td>0.0</td>\n",
              "      <td>39.987850</td>\n",
              "      <td>-91.188437</td>\n",
              "    </tr>\n",
              "    <tr>\n",
              "      <th>1</th>\n",
              "      <td>1951</td>\n",
              "      <td>ADAMS</td>\n",
              "      <td>513.565000</td>\n",
              "      <td>36.751667</td>\n",
              "      <td>-2.735000</td>\n",
              "      <td>25.901047</td>\n",
              "      <td>14.245191</td>\n",
              "      <td>66</td>\n",
              "      <td>42</td>\n",
              "      <td>39</td>\n",
              "      <td>1</td>\n",
              "      <td>2792.585834</td>\n",
              "      <td>1.0</td>\n",
              "      <td>39.987850</td>\n",
              "      <td>-91.188437</td>\n",
              "    </tr>\n",
              "    <tr>\n",
              "      <th>2</th>\n",
              "      <td>1952</td>\n",
              "      <td>ADAMS</td>\n",
              "      <td>496.356667</td>\n",
              "      <td>38.963333</td>\n",
              "      <td>-3.333333</td>\n",
              "      <td>27.672204</td>\n",
              "      <td>14.533133</td>\n",
              "      <td>52</td>\n",
              "      <td>74</td>\n",
              "      <td>43</td>\n",
              "      <td>3</td>\n",
              "      <td>2917.287500</td>\n",
              "      <td>4.5</td>\n",
              "      <td>39.987850</td>\n",
              "      <td>-91.188437</td>\n",
              "    </tr>\n",
              "    <tr>\n",
              "      <th>3</th>\n",
              "      <td>1953</td>\n",
              "      <td>ADAMS</td>\n",
              "      <td>334.023333</td>\n",
              "      <td>38.981667</td>\n",
              "      <td>-3.941667</td>\n",
              "      <td>28.367377</td>\n",
              "      <td>14.761357</td>\n",
              "      <td>47</td>\n",
              "      <td>86</td>\n",
              "      <td>44</td>\n",
              "      <td>2</td>\n",
              "      <td>2947.965001</td>\n",
              "      <td>-3.0</td>\n",
              "      <td>39.987850</td>\n",
              "      <td>-91.188437</td>\n",
              "    </tr>\n",
              "    <tr>\n",
              "      <th>4</th>\n",
              "      <td>1954</td>\n",
              "      <td>ADAMS</td>\n",
              "      <td>622.691667</td>\n",
              "      <td>43.956667</td>\n",
              "      <td>0.105000</td>\n",
              "      <td>28.192687</td>\n",
              "      <td>15.860492</td>\n",
              "      <td>67</td>\n",
              "      <td>82</td>\n",
              "      <td>35</td>\n",
              "      <td>0</td>\n",
              "      <td>3000.706667</td>\n",
              "      <td>3.0</td>\n",
              "      <td>39.987850</td>\n",
              "      <td>-91.188437</td>\n",
              "    </tr>\n",
              "    <tr>\n",
              "      <th>...</th>\n",
              "      <td>...</td>\n",
              "      <td>...</td>\n",
              "      <td>...</td>\n",
              "      <td>...</td>\n",
              "      <td>...</td>\n",
              "      <td>...</td>\n",
              "      <td>...</td>\n",
              "      <td>...</td>\n",
              "      <td>...</td>\n",
              "      <td>...</td>\n",
              "      <td>...</td>\n",
              "      <td>...</td>\n",
              "      <td>...</td>\n",
              "      <td>...</td>\n",
              "      <td>...</td>\n",
              "    </tr>\n",
              "    <tr>\n",
              "      <th>7134</th>\n",
              "      <td>2014</td>\n",
              "      <td>WOODFORD</td>\n",
              "      <td>725.754502</td>\n",
              "      <td>34.722222</td>\n",
              "      <td>-3.055556</td>\n",
              "      <td>25.065270</td>\n",
              "      <td>12.460534</td>\n",
              "      <td>73</td>\n",
              "      <td>29</td>\n",
              "      <td>56</td>\n",
              "      <td>1</td>\n",
              "      <td>2627.638889</td>\n",
              "      <td>-2.0</td>\n",
              "      <td>40.788316</td>\n",
              "      <td>-89.211374</td>\n",
              "    </tr>\n",
              "    <tr>\n",
              "      <th>7135</th>\n",
              "      <td>2015</td>\n",
              "      <td>WOODFORD</td>\n",
              "      <td>824.823070</td>\n",
              "      <td>35.555556</td>\n",
              "      <td>-2.222222</td>\n",
              "      <td>25.933515</td>\n",
              "      <td>13.556466</td>\n",
              "      <td>71</td>\n",
              "      <td>29</td>\n",
              "      <td>41</td>\n",
              "      <td>1</td>\n",
              "      <td>2767.777778</td>\n",
              "      <td>-3.6</td>\n",
              "      <td>40.788316</td>\n",
              "      <td>-89.211374</td>\n",
              "    </tr>\n",
              "    <tr>\n",
              "      <th>7136</th>\n",
              "      <td>2016</td>\n",
              "      <td>WOODFORD</td>\n",
              "      <td>802.973224</td>\n",
              "      <td>34.722222</td>\n",
              "      <td>1.388889</td>\n",
              "      <td>27.014268</td>\n",
              "      <td>14.822404</td>\n",
              "      <td>68</td>\n",
              "      <td>58</td>\n",
              "      <td>39</td>\n",
              "      <td>0</td>\n",
              "      <td>2927.222223</td>\n",
              "      <td>6.6</td>\n",
              "      <td>40.788316</td>\n",
              "      <td>-89.211374</td>\n",
              "    </tr>\n",
              "    <tr>\n",
              "      <th>7137</th>\n",
              "      <td>2017</td>\n",
              "      <td>WOODFORD</td>\n",
              "      <td>557.645509</td>\n",
              "      <td>35.833333</td>\n",
              "      <td>0.277778</td>\n",
              "      <td>26.739526</td>\n",
              "      <td>13.501821</td>\n",
              "      <td>54</td>\n",
              "      <td>50</td>\n",
              "      <td>42</td>\n",
              "      <td>0</td>\n",
              "      <td>2782.222223</td>\n",
              "      <td>-4.3</td>\n",
              "      <td>40.788316</td>\n",
              "      <td>-89.211374</td>\n",
              "    </tr>\n",
              "    <tr>\n",
              "      <th>7138</th>\n",
              "      <td>2018</td>\n",
              "      <td>WOODFORD</td>\n",
              "      <td>534.915973</td>\n",
              "      <td>35.833333</td>\n",
              "      <td>-4.166667</td>\n",
              "      <td>27.275349</td>\n",
              "      <td>14.704007</td>\n",
              "      <td>59</td>\n",
              "      <td>65</td>\n",
              "      <td>33</td>\n",
              "      <td>4</td>\n",
              "      <td>2940.138889</td>\n",
              "      <td>3.3</td>\n",
              "      <td>40.788316</td>\n",
              "      <td>-89.211374</td>\n",
              "    </tr>\n",
              "  </tbody>\n",
              "</table>\n",
              "<p>483280 rows × 15 columns</p>\n",
              "</div>"
            ],
            "text/plain": [
              "      Year    County  SeasonalPrep  ...  Value_soybean   Latitude  Longitude\n",
              "0     1950     ADAMS    481.046667  ...            0.0  39.987850 -91.188437\n",
              "1     1951     ADAMS    513.565000  ...            1.0  39.987850 -91.188437\n",
              "2     1952     ADAMS    496.356667  ...            4.5  39.987850 -91.188437\n",
              "3     1953     ADAMS    334.023333  ...           -3.0  39.987850 -91.188437\n",
              "4     1954     ADAMS    622.691667  ...            3.0  39.987850 -91.188437\n",
              "...    ...       ...           ...  ...            ...        ...        ...\n",
              "7134  2014  WOODFORD    725.754502  ...           -2.0  40.788316 -89.211374\n",
              "7135  2015  WOODFORD    824.823070  ...           -3.6  40.788316 -89.211374\n",
              "7136  2016  WOODFORD    802.973224  ...            6.6  40.788316 -89.211374\n",
              "7137  2017  WOODFORD    557.645509  ...           -4.3  40.788316 -89.211374\n",
              "7138  2018  WOODFORD    534.915973  ...            3.3  40.788316 -89.211374\n",
              "\n",
              "[483280 rows x 15 columns]"
            ]
          },
          "metadata": {
            "tags": []
          },
          "execution_count": 6
        }
      ]
    },
    {
      "cell_type": "markdown",
      "metadata": {
        "id": "l_h5k-67QBeR"
      },
      "source": [
        "# Linear Regression Modeling"
      ]
    },
    {
      "cell_type": "markdown",
      "metadata": {
        "id": "-DS_8-avOJVD"
      },
      "source": [
        "## Linear Regression Model for Soybean"
      ]
    },
    {
      "cell_type": "code",
      "metadata": {
        "id": "8I4X2F0RE0kL",
        "outputId": "1430df61-93cd-4714-eec8-ab5e063bfa5f",
        "colab": {
          "base_uri": "https://localhost:8080/",
          "height": 391
        }
      },
      "source": [
        "df_soybean=df_data.drop(\"Value_corn\",axis=1)\n",
        "df_soybean.dropna(inplace=True)\n",
        "df_soybean"
      ],
      "execution_count": null,
      "outputs": [
        {
          "output_type": "execute_result",
          "data": {
            "text/html": [
              "<div>\n",
              "<style scoped>\n",
              "    .dataframe tbody tr th:only-of-type {\n",
              "        vertical-align: middle;\n",
              "    }\n",
              "\n",
              "    .dataframe tbody tr th {\n",
              "        vertical-align: top;\n",
              "    }\n",
              "\n",
              "    .dataframe thead th {\n",
              "        text-align: right;\n",
              "    }\n",
              "</style>\n",
              "<table border=\"1\" class=\"dataframe\">\n",
              "  <thead>\n",
              "    <tr style=\"text-align: right;\">\n",
              "      <th></th>\n",
              "      <th>Year</th>\n",
              "      <th>County</th>\n",
              "      <th>SeasonalPrep</th>\n",
              "      <th>SeasonalTmax</th>\n",
              "      <th>SeasonalTmin</th>\n",
              "      <th>SeasonalAvgTmax</th>\n",
              "      <th>SeasonalAvgTmin</th>\n",
              "      <th>WetDays</th>\n",
              "      <th>DaysA30</th>\n",
              "      <th>DaysB10</th>\n",
              "      <th>DaysB_2</th>\n",
              "      <th>GDD</th>\n",
              "      <th>Value_soybean</th>\n",
              "      <th>Latitude</th>\n",
              "      <th>Longitude</th>\n",
              "    </tr>\n",
              "  </thead>\n",
              "  <tbody>\n",
              "    <tr>\n",
              "      <th>0</th>\n",
              "      <td>1950</td>\n",
              "      <td>ADAMS</td>\n",
              "      <td>481.046667</td>\n",
              "      <td>35.023333</td>\n",
              "      <td>-0.991667</td>\n",
              "      <td>25.564627</td>\n",
              "      <td>13.324800</td>\n",
              "      <td>57</td>\n",
              "      <td>28</td>\n",
              "      <td>42</td>\n",
              "      <td>0</td>\n",
              "      <td>2708.500834</td>\n",
              "      <td>28.0</td>\n",
              "      <td>39.987850</td>\n",
              "      <td>-91.188437</td>\n",
              "    </tr>\n",
              "    <tr>\n",
              "      <th>1</th>\n",
              "      <td>1951</td>\n",
              "      <td>ADAMS</td>\n",
              "      <td>513.565000</td>\n",
              "      <td>36.751667</td>\n",
              "      <td>-2.735000</td>\n",
              "      <td>25.901047</td>\n",
              "      <td>14.245191</td>\n",
              "      <td>66</td>\n",
              "      <td>42</td>\n",
              "      <td>39</td>\n",
              "      <td>1</td>\n",
              "      <td>2792.585834</td>\n",
              "      <td>28.0</td>\n",
              "      <td>39.987850</td>\n",
              "      <td>-91.188437</td>\n",
              "    </tr>\n",
              "    <tr>\n",
              "      <th>2</th>\n",
              "      <td>1952</td>\n",
              "      <td>ADAMS</td>\n",
              "      <td>496.356667</td>\n",
              "      <td>38.963333</td>\n",
              "      <td>-3.333333</td>\n",
              "      <td>27.672204</td>\n",
              "      <td>14.533133</td>\n",
              "      <td>52</td>\n",
              "      <td>74</td>\n",
              "      <td>43</td>\n",
              "      <td>3</td>\n",
              "      <td>2917.287500</td>\n",
              "      <td>27.0</td>\n",
              "      <td>39.987850</td>\n",
              "      <td>-91.188437</td>\n",
              "    </tr>\n",
              "    <tr>\n",
              "      <th>3</th>\n",
              "      <td>1953</td>\n",
              "      <td>ADAMS</td>\n",
              "      <td>334.023333</td>\n",
              "      <td>38.981667</td>\n",
              "      <td>-3.941667</td>\n",
              "      <td>28.367377</td>\n",
              "      <td>14.761357</td>\n",
              "      <td>47</td>\n",
              "      <td>86</td>\n",
              "      <td>44</td>\n",
              "      <td>2</td>\n",
              "      <td>2947.965001</td>\n",
              "      <td>22.5</td>\n",
              "      <td>39.987850</td>\n",
              "      <td>-91.188437</td>\n",
              "    </tr>\n",
              "    <tr>\n",
              "      <th>4</th>\n",
              "      <td>1954</td>\n",
              "      <td>ADAMS</td>\n",
              "      <td>622.691667</td>\n",
              "      <td>43.956667</td>\n",
              "      <td>0.105000</td>\n",
              "      <td>28.192687</td>\n",
              "      <td>15.860492</td>\n",
              "      <td>67</td>\n",
              "      <td>82</td>\n",
              "      <td>35</td>\n",
              "      <td>0</td>\n",
              "      <td>3000.706667</td>\n",
              "      <td>25.5</td>\n",
              "      <td>39.987850</td>\n",
              "      <td>-91.188437</td>\n",
              "    </tr>\n",
              "    <tr>\n",
              "      <th>...</th>\n",
              "      <td>...</td>\n",
              "      <td>...</td>\n",
              "      <td>...</td>\n",
              "      <td>...</td>\n",
              "      <td>...</td>\n",
              "      <td>...</td>\n",
              "      <td>...</td>\n",
              "      <td>...</td>\n",
              "      <td>...</td>\n",
              "      <td>...</td>\n",
              "      <td>...</td>\n",
              "      <td>...</td>\n",
              "      <td>...</td>\n",
              "      <td>...</td>\n",
              "      <td>...</td>\n",
              "    </tr>\n",
              "    <tr>\n",
              "      <th>7135</th>\n",
              "      <td>2015</td>\n",
              "      <td>WOODFORD</td>\n",
              "      <td>824.823070</td>\n",
              "      <td>35.555556</td>\n",
              "      <td>-2.222222</td>\n",
              "      <td>25.933515</td>\n",
              "      <td>13.556466</td>\n",
              "      <td>71</td>\n",
              "      <td>29</td>\n",
              "      <td>41</td>\n",
              "      <td>1</td>\n",
              "      <td>2767.777778</td>\n",
              "      <td>63.4</td>\n",
              "      <td>40.788316</td>\n",
              "      <td>-89.211374</td>\n",
              "    </tr>\n",
              "    <tr>\n",
              "      <th>7136</th>\n",
              "      <td>2016</td>\n",
              "      <td>WOODFORD</td>\n",
              "      <td>802.973224</td>\n",
              "      <td>34.722222</td>\n",
              "      <td>1.388889</td>\n",
              "      <td>27.014268</td>\n",
              "      <td>14.822404</td>\n",
              "      <td>68</td>\n",
              "      <td>58</td>\n",
              "      <td>39</td>\n",
              "      <td>0</td>\n",
              "      <td>2927.222223</td>\n",
              "      <td>67.0</td>\n",
              "      <td>40.788316</td>\n",
              "      <td>-89.211374</td>\n",
              "    </tr>\n",
              "    <tr>\n",
              "      <th>7137</th>\n",
              "      <td>2017</td>\n",
              "      <td>WOODFORD</td>\n",
              "      <td>557.645509</td>\n",
              "      <td>35.833333</td>\n",
              "      <td>0.277778</td>\n",
              "      <td>26.739526</td>\n",
              "      <td>13.501821</td>\n",
              "      <td>54</td>\n",
              "      <td>50</td>\n",
              "      <td>42</td>\n",
              "      <td>0</td>\n",
              "      <td>2782.222223</td>\n",
              "      <td>60.4</td>\n",
              "      <td>40.788316</td>\n",
              "      <td>-89.211374</td>\n",
              "    </tr>\n",
              "    <tr>\n",
              "      <th>7138</th>\n",
              "      <td>2018</td>\n",
              "      <td>WOODFORD</td>\n",
              "      <td>534.915973</td>\n",
              "      <td>35.833333</td>\n",
              "      <td>-4.166667</td>\n",
              "      <td>27.275349</td>\n",
              "      <td>14.704007</td>\n",
              "      <td>59</td>\n",
              "      <td>65</td>\n",
              "      <td>33</td>\n",
              "      <td>4</td>\n",
              "      <td>2940.138889</td>\n",
              "      <td>64.7</td>\n",
              "      <td>40.788316</td>\n",
              "      <td>-89.211374</td>\n",
              "    </tr>\n",
              "    <tr>\n",
              "      <th>7139</th>\n",
              "      <td>2019</td>\n",
              "      <td>WOODFORD</td>\n",
              "      <td>820.735081</td>\n",
              "      <td>34.722222</td>\n",
              "      <td>-0.555556</td>\n",
              "      <td>26.006375</td>\n",
              "      <td>13.951123</td>\n",
              "      <td>76</td>\n",
              "      <td>40</td>\n",
              "      <td>41</td>\n",
              "      <td>0</td>\n",
              "      <td>2786.111112</td>\n",
              "      <td>61.4</td>\n",
              "      <td>40.788316</td>\n",
              "      <td>-89.211374</td>\n",
              "    </tr>\n",
              "  </tbody>\n",
              "</table>\n",
              "<p>7037 rows × 15 columns</p>\n",
              "</div>"
            ],
            "text/plain": [
              "      Year    County  SeasonalPrep  ...  Value_soybean   Latitude  Longitude\n",
              "0     1950     ADAMS    481.046667  ...           28.0  39.987850 -91.188437\n",
              "1     1951     ADAMS    513.565000  ...           28.0  39.987850 -91.188437\n",
              "2     1952     ADAMS    496.356667  ...           27.0  39.987850 -91.188437\n",
              "3     1953     ADAMS    334.023333  ...           22.5  39.987850 -91.188437\n",
              "4     1954     ADAMS    622.691667  ...           25.5  39.987850 -91.188437\n",
              "...    ...       ...           ...  ...            ...        ...        ...\n",
              "7135  2015  WOODFORD    824.823070  ...           63.4  40.788316 -89.211374\n",
              "7136  2016  WOODFORD    802.973224  ...           67.0  40.788316 -89.211374\n",
              "7137  2017  WOODFORD    557.645509  ...           60.4  40.788316 -89.211374\n",
              "7138  2018  WOODFORD    534.915973  ...           64.7  40.788316 -89.211374\n",
              "7139  2019  WOODFORD    820.735081  ...           61.4  40.788316 -89.211374\n",
              "\n",
              "[7037 rows x 15 columns]"
            ]
          },
          "metadata": {
            "tags": []
          },
          "execution_count": 19
        }
      ]
    },
    {
      "cell_type": "code",
      "metadata": {
        "id": "oMtJ2Pqw55Hs",
        "outputId": "73286e12-be2f-45fb-db6b-36d851da68e4",
        "colab": {
          "base_uri": "https://localhost:8080/",
          "height": 265
        }
      },
      "source": [
        "df_soybean_ADAMS=df_soybean[df_soybean[\"County\"]==\"ADAMS\"]\n",
        "plt.plot(df_soybean_ADAMS[\"Year\"],df_soybean_ADAMS[\"Value_soybean\"])\n",
        "plt.show()\n"
      ],
      "execution_count": null,
      "outputs": [
        {
          "output_type": "display_data",
          "data": {
            "image/png": "[encoded data removed]",
            "text/plain": [
              "<Figure size 432x288 with 1 Axes>"
            ]
          },
          "metadata": {
            "tags": [],
            "needs_background": "light"
          }
        }
      ]
    },
    {
      "cell_type": "code",
      "metadata": {
        "id": "4ASdae6WGZKB"
      },
      "source": [
        "df_soybean_X=df_soybean.drop(\"Value_soybean\",axis=1)\n",
        "\n",
        "## Label encoder for County variable\n",
        "# le = preprocessing.LabelEncoder()\n",
        "# df_soybean_X[\"County\"]=le.fit_transform(df_soybean_X[\"County\"])\n",
        "\n",
        "# SeasonalTmax better than SeasonalTmin\n",
        "X_train_soybean, X_test_soybean, y_train_soybean, y_test_soybean = train_test_split(\n",
        "    df_soybean_X[[\"Year\",\"Latitude\",\"Longitude\",\"SeasonalTmax\",\"GDD\",\"WetDays\",\"SeasonalAvgTmin\",\"DaysA30\"]],\n",
        "    df_soybean[\"Value_soybean\"], test_size=0.30, random_state=42)"
      ],
      "execution_count": null,
      "outputs": []
    },
    {
      "cell_type": "code",
      "metadata": {
        "id": "C09diBTcMZ8P",
        "outputId": "a8638884-9ea8-471e-876f-e38909f9251d",
        "colab": {
          "base_uri": "https://localhost:8080/",
          "height": 281
        }
      },
      "source": [
        "LR_soybean=LinearRegression().fit(X_train_soybean, y_train_soybean)\n",
        "y_pred_soybean=LR_soybean.predict(X_test_soybean)\n",
        "plt.scatter(LR_soybean.predict(X_test_soybean),y_test_soybean)"
      ],
      "execution_count": null,
      "outputs": [
        {
          "output_type": "execute_result",
          "data": {
            "text/plain": [
              "<matplotlib.collections.PathCollection at 0x7fba90ea6438>"
            ]
          },
          "metadata": {
            "tags": []
          },
          "execution_count": 22
        },
        {
          "output_type": "display_data",
          "data": {
            "image/png": "[encoded data removed]",
            "text/plain": [
              "<Figure size 432x288 with 1 Axes>"
            ]
          },
          "metadata": {
            "tags": [],
            "needs_background": "light"
          }
        }
      ]
    },
    {
      "cell_type": "code",
      "metadata": {
        "id": "hXiixTBpNM6F",
        "outputId": "2b371932-f8c6-4d8f-cfa0-dec39d6a3d1f",
        "colab": {
          "base_uri": "https://localhost:8080/",
          "height": 33
        }
      },
      "source": [
        "r2_score(y_test_soybean, y_pred_soybean)"
      ],
      "execution_count": null,
      "outputs": [
        {
          "output_type": "execute_result",
          "data": {
            "text/plain": [
              "0.7809189150605427"
            ]
          },
          "metadata": {
            "tags": []
          },
          "execution_count": 23
        }
      ]
    },
    {
      "cell_type": "code",
      "metadata": {
        "id": "Qw6R5W5QQyTU"
      },
      "source": [
        "# sns.pairplot(df_soybean);"
      ],
      "execution_count": null,
      "outputs": []
    },
    {
      "cell_type": "code",
      "metadata": {
        "id": "ek8z1HCPSGTa",
        "outputId": "c84d3e8c-6d48-436a-8956-b598e12b046e",
        "colab": {
          "base_uri": "https://localhost:8080/",
          "height": 50
        }
      },
      "source": [
        "LR_soybean.coef_"
      ],
      "execution_count": null,
      "outputs": [
        {
          "output_type": "execute_result",
          "data": {
            "text/plain": [
              "array([ 0.42899838,  3.31081236, -1.08013701, -0.93997241,  0.04940137,\n",
              "        0.01633868, -3.08295988, -0.1591092 ])"
            ]
          },
          "metadata": {
            "tags": []
          },
          "execution_count": 10
        }
      ]
    },
    {
      "cell_type": "markdown",
      "metadata": {
        "id": "MOobFQxaOTs8"
      },
      "source": [
        "## Linear Regression Model for Corn"
      ]
    },
    {
      "cell_type": "code",
      "metadata": {
        "id": "-o_CfmAGUVoK",
        "outputId": "f7d505c7-6909-4d4a-f8c6-9cb1934e929c",
        "colab": {
          "base_uri": "https://localhost:8080/",
          "height": 281
        }
      },
      "source": [
        "df_corn=df_data.drop(\"Value_soybean\",axis=1)\n",
        "df_corn.dropna(inplace=True)\n",
        "df_corn_X=df_corn.drop(\"Value_corn\",axis=1)\n",
        "\n",
        "# le_corn = preprocessing.LabelEncoder()\n",
        "# df_corn_X[\"County\"]=le_corn.fit_transform(df_corn_X[\"County\"])\n",
        "X_train_corn, X_test_corn, y_train_corn, y_test_corn = train_test_split(\n",
        "    df_corn_X[[\"Year\",\"Latitude\",\"Longitude\",\"SeasonalTmax\",\"GDD\",\"SeasonalAvgTmin\",\"DaysA30\"]],\n",
        "    df_corn[\"Value_corn\"], test_size=0.30, random_state=42)\n",
        "LR_corn=LinearRegression().fit(X_train_corn, y_train_corn)\n",
        "y_pred_corn=LR_corn.predict(X_test_corn)\n",
        "plt.scatter(LR_corn.predict(X_test_corn),y_test_corn)"
      ],
      "execution_count": null,
      "outputs": [
        {
          "output_type": "execute_result",
          "data": {
            "text/plain": [
              "<matplotlib.collections.PathCollection at 0x7fba951f5d30>"
            ]
          },
          "metadata": {
            "tags": []
          },
          "execution_count": 7
        },
        {
          "output_type": "display_data",
          "data": {
            "image/png": "[encoded data removed]",
            "text/plain": [
              "<Figure size 432x288 with 1 Axes>"
            ]
          },
          "metadata": {
            "tags": [],
            "needs_background": "light"
          }
        }
      ]
    },
    {
      "cell_type": "code",
      "metadata": {
        "id": "weSn2Ucf017W",
        "outputId": "fac8b806-3c60-4463-f8b9-851d88102614",
        "colab": {
          "base_uri": "https://localhost:8080/",
          "height": 391
        }
      },
      "source": [
        "df_corn"
      ],
      "execution_count": null,
      "outputs": [
        {
          "output_type": "execute_result",
          "data": {
            "text/html": [
              "<div>\n",
              "<style scoped>\n",
              "    .dataframe tbody tr th:only-of-type {\n",
              "        vertical-align: middle;\n",
              "    }\n",
              "\n",
              "    .dataframe tbody tr th {\n",
              "        vertical-align: top;\n",
              "    }\n",
              "\n",
              "    .dataframe thead th {\n",
              "        text-align: right;\n",
              "    }\n",
              "</style>\n",
              "<table border=\"1\" class=\"dataframe\">\n",
              "  <thead>\n",
              "    <tr style=\"text-align: right;\">\n",
              "      <th></th>\n",
              "      <th>Year</th>\n",
              "      <th>County</th>\n",
              "      <th>SeasonalPrep</th>\n",
              "      <th>SeasonalTmax</th>\n",
              "      <th>SeasonalTmin</th>\n",
              "      <th>SeasonalAvgTmax</th>\n",
              "      <th>SeasonalAvgTmin</th>\n",
              "      <th>WetDays</th>\n",
              "      <th>DaysA30</th>\n",
              "      <th>DaysB10</th>\n",
              "      <th>DaysB_2</th>\n",
              "      <th>GDD</th>\n",
              "      <th>Value_corn</th>\n",
              "      <th>Latitude</th>\n",
              "      <th>Longitude</th>\n",
              "    </tr>\n",
              "  </thead>\n",
              "  <tbody>\n",
              "    <tr>\n",
              "      <th>0</th>\n",
              "      <td>1950</td>\n",
              "      <td>ADAMS</td>\n",
              "      <td>481.046667</td>\n",
              "      <td>35.023333</td>\n",
              "      <td>-0.991667</td>\n",
              "      <td>25.564627</td>\n",
              "      <td>13.324800</td>\n",
              "      <td>57</td>\n",
              "      <td>28</td>\n",
              "      <td>42</td>\n",
              "      <td>0</td>\n",
              "      <td>2708.500834</td>\n",
              "      <td>55.0</td>\n",
              "      <td>39.987850</td>\n",
              "      <td>-91.188437</td>\n",
              "    </tr>\n",
              "    <tr>\n",
              "      <th>1</th>\n",
              "      <td>1951</td>\n",
              "      <td>ADAMS</td>\n",
              "      <td>513.565000</td>\n",
              "      <td>36.751667</td>\n",
              "      <td>-2.735000</td>\n",
              "      <td>25.901047</td>\n",
              "      <td>14.245191</td>\n",
              "      <td>66</td>\n",
              "      <td>42</td>\n",
              "      <td>39</td>\n",
              "      <td>1</td>\n",
              "      <td>2792.585834</td>\n",
              "      <td>60.0</td>\n",
              "      <td>39.987850</td>\n",
              "      <td>-91.188437</td>\n",
              "    </tr>\n",
              "    <tr>\n",
              "      <th>2</th>\n",
              "      <td>1952</td>\n",
              "      <td>ADAMS</td>\n",
              "      <td>496.356667</td>\n",
              "      <td>38.963333</td>\n",
              "      <td>-3.333333</td>\n",
              "      <td>27.672204</td>\n",
              "      <td>14.533133</td>\n",
              "      <td>52</td>\n",
              "      <td>74</td>\n",
              "      <td>43</td>\n",
              "      <td>3</td>\n",
              "      <td>2917.287500</td>\n",
              "      <td>59.0</td>\n",
              "      <td>39.987850</td>\n",
              "      <td>-91.188437</td>\n",
              "    </tr>\n",
              "    <tr>\n",
              "      <th>3</th>\n",
              "      <td>1953</td>\n",
              "      <td>ADAMS</td>\n",
              "      <td>334.023333</td>\n",
              "      <td>38.981667</td>\n",
              "      <td>-3.941667</td>\n",
              "      <td>28.367377</td>\n",
              "      <td>14.761357</td>\n",
              "      <td>47</td>\n",
              "      <td>86</td>\n",
              "      <td>44</td>\n",
              "      <td>2</td>\n",
              "      <td>2947.965001</td>\n",
              "      <td>52.0</td>\n",
              "      <td>39.987850</td>\n",
              "      <td>-91.188437</td>\n",
              "    </tr>\n",
              "    <tr>\n",
              "      <th>4</th>\n",
              "      <td>1954</td>\n",
              "      <td>ADAMS</td>\n",
              "      <td>622.691667</td>\n",
              "      <td>43.956667</td>\n",
              "      <td>0.105000</td>\n",
              "      <td>28.192687</td>\n",
              "      <td>15.860492</td>\n",
              "      <td>67</td>\n",
              "      <td>82</td>\n",
              "      <td>35</td>\n",
              "      <td>0</td>\n",
              "      <td>3000.706667</td>\n",
              "      <td>46.0</td>\n",
              "      <td>39.987850</td>\n",
              "      <td>-91.188437</td>\n",
              "    </tr>\n",
              "    <tr>\n",
              "      <th>...</th>\n",
              "      <td>...</td>\n",
              "      <td>...</td>\n",
              "      <td>...</td>\n",
              "      <td>...</td>\n",
              "      <td>...</td>\n",
              "      <td>...</td>\n",
              "      <td>...</td>\n",
              "      <td>...</td>\n",
              "      <td>...</td>\n",
              "      <td>...</td>\n",
              "      <td>...</td>\n",
              "      <td>...</td>\n",
              "      <td>...</td>\n",
              "      <td>...</td>\n",
              "      <td>...</td>\n",
              "    </tr>\n",
              "    <tr>\n",
              "      <th>7135</th>\n",
              "      <td>2015</td>\n",
              "      <td>WOODFORD</td>\n",
              "      <td>824.823070</td>\n",
              "      <td>35.555556</td>\n",
              "      <td>-2.222222</td>\n",
              "      <td>25.933515</td>\n",
              "      <td>13.556466</td>\n",
              "      <td>71</td>\n",
              "      <td>29</td>\n",
              "      <td>41</td>\n",
              "      <td>1</td>\n",
              "      <td>2767.777778</td>\n",
              "      <td>201.0</td>\n",
              "      <td>40.788316</td>\n",
              "      <td>-89.211374</td>\n",
              "    </tr>\n",
              "    <tr>\n",
              "      <th>7136</th>\n",
              "      <td>2016</td>\n",
              "      <td>WOODFORD</td>\n",
              "      <td>802.973224</td>\n",
              "      <td>34.722222</td>\n",
              "      <td>1.388889</td>\n",
              "      <td>27.014268</td>\n",
              "      <td>14.822404</td>\n",
              "      <td>68</td>\n",
              "      <td>58</td>\n",
              "      <td>39</td>\n",
              "      <td>0</td>\n",
              "      <td>2927.222223</td>\n",
              "      <td>232.8</td>\n",
              "      <td>40.788316</td>\n",
              "      <td>-89.211374</td>\n",
              "    </tr>\n",
              "    <tr>\n",
              "      <th>7137</th>\n",
              "      <td>2017</td>\n",
              "      <td>WOODFORD</td>\n",
              "      <td>557.645509</td>\n",
              "      <td>35.833333</td>\n",
              "      <td>0.277778</td>\n",
              "      <td>26.739526</td>\n",
              "      <td>13.501821</td>\n",
              "      <td>54</td>\n",
              "      <td>50</td>\n",
              "      <td>42</td>\n",
              "      <td>0</td>\n",
              "      <td>2782.222223</td>\n",
              "      <td>214.2</td>\n",
              "      <td>40.788316</td>\n",
              "      <td>-89.211374</td>\n",
              "    </tr>\n",
              "    <tr>\n",
              "      <th>7138</th>\n",
              "      <td>2018</td>\n",
              "      <td>WOODFORD</td>\n",
              "      <td>534.915973</td>\n",
              "      <td>35.833333</td>\n",
              "      <td>-4.166667</td>\n",
              "      <td>27.275349</td>\n",
              "      <td>14.704007</td>\n",
              "      <td>59</td>\n",
              "      <td>65</td>\n",
              "      <td>33</td>\n",
              "      <td>4</td>\n",
              "      <td>2940.138889</td>\n",
              "      <td>223.7</td>\n",
              "      <td>40.788316</td>\n",
              "      <td>-89.211374</td>\n",
              "    </tr>\n",
              "    <tr>\n",
              "      <th>7139</th>\n",
              "      <td>2019</td>\n",
              "      <td>WOODFORD</td>\n",
              "      <td>820.735081</td>\n",
              "      <td>34.722222</td>\n",
              "      <td>-0.555556</td>\n",
              "      <td>26.006375</td>\n",
              "      <td>13.951123</td>\n",
              "      <td>76</td>\n",
              "      <td>40</td>\n",
              "      <td>41</td>\n",
              "      <td>0</td>\n",
              "      <td>2786.111112</td>\n",
              "      <td>183.6</td>\n",
              "      <td>40.788316</td>\n",
              "      <td>-89.211374</td>\n",
              "    </tr>\n",
              "  </tbody>\n",
              "</table>\n",
              "<p>7028 rows × 15 columns</p>\n",
              "</div>"
            ],
            "text/plain": [
              "      Year    County  SeasonalPrep  ...  Value_corn   Latitude  Longitude\n",
              "0     1950     ADAMS    481.046667  ...        55.0  39.987850 -91.188437\n",
              "1     1951     ADAMS    513.565000  ...        60.0  39.987850 -91.188437\n",
              "2     1952     ADAMS    496.356667  ...        59.0  39.987850 -91.188437\n",
              "3     1953     ADAMS    334.023333  ...        52.0  39.987850 -91.188437\n",
              "4     1954     ADAMS    622.691667  ...        46.0  39.987850 -91.188437\n",
              "...    ...       ...           ...  ...         ...        ...        ...\n",
              "7135  2015  WOODFORD    824.823070  ...       201.0  40.788316 -89.211374\n",
              "7136  2016  WOODFORD    802.973224  ...       232.8  40.788316 -89.211374\n",
              "7137  2017  WOODFORD    557.645509  ...       214.2  40.788316 -89.211374\n",
              "7138  2018  WOODFORD    534.915973  ...       223.7  40.788316 -89.211374\n",
              "7139  2019  WOODFORD    820.735081  ...       183.6  40.788316 -89.211374\n",
              "\n",
              "[7028 rows x 15 columns]"
            ]
          },
          "metadata": {
            "tags": []
          },
          "execution_count": 8
        }
      ]
    },
    {
      "cell_type": "code",
      "metadata": {
        "id": "x8Vw8OPE6haP",
        "outputId": "eb7bd8b5-c18f-47c6-e5d5-136c5096cef0",
        "colab": {
          "base_uri": "https://localhost:8080/",
          "height": 33
        }
      },
      "source": [
        "r2_score(y_test_corn, y_pred_corn)"
      ],
      "execution_count": null,
      "outputs": [
        {
          "output_type": "execute_result",
          "data": {
            "text/plain": [
              "0.8235724795754849"
            ]
          },
          "metadata": {
            "tags": []
          },
          "execution_count": 9
        }
      ]
    },
    {
      "cell_type": "code",
      "metadata": {
        "id": "ImleZe_z7i_K",
        "outputId": "c1e3725d-f9f4-42de-f0d8-cef9fc8351e8",
        "colab": {
          "base_uri": "https://localhost:8080/",
          "height": 50
        }
      },
      "source": [
        "LR_corn.coef_\n",
        "# sns.pairplot(df_corn)"
      ],
      "execution_count": null,
      "outputs": [
        {
          "output_type": "execute_result",
          "data": {
            "text/plain": [
              "array([  1.78808111,   7.61681763,  -3.10272488,  -4.60886459,\n",
              "         0.17421806, -13.11465986,  -0.67621259])"
            ]
          },
          "metadata": {
            "tags": []
          },
          "execution_count": 10
        }
      ]
    },
    {
      "cell_type": "code",
      "metadata": {
        "id": "Qlhg2YVKnbFs",
        "outputId": "cfe34ff4-17cc-447d-d9d0-3accd2c3539a",
        "colab": {
          "base_uri": "https://localhost:8080/",
          "height": 281
        }
      },
      "source": [
        "corn_adams = df_corn[(df_corn['County']=='CHAMPAIGN') & (df_corn['Year']>=1950)]['Value_corn']\n",
        "prep = df_corn[(df_corn['County']=='CHAMPAIGN') & (df_corn['Year']>=1950)]['SeasonalPrep']*0.1\n",
        "tmax = df_corn[(df_corn['County']=='CHAMPAIGN') & (df_corn['Year']>=1950)]['SeasonalTmax']\n",
        "gdd = df_corn[(df_corn['County']=='CHAMPAIGN') & (df_corn['Year']>=1950)]['GDD']\n",
        "year = df_corn[(df_corn['County']=='CHAMPAIGN') & (df_corn['Year']>=1950)]['Year']\n",
        "\n",
        "figure, a1 = plt.subplots()\n",
        "a1.plot(year,corn_adams,'g')\n",
        "a2 = a1.twinx()\n",
        "a1.plot(year,prep,'b')\n",
        "a2.plot(year,tmax,'r')"
      ],
      "execution_count": null,
      "outputs": [
        {
          "output_type": "execute_result",
          "data": {
            "text/plain": [
              "[<matplotlib.lines.Line2D at 0x7fba912076d8>]"
            ]
          },
          "metadata": {
            "tags": []
          },
          "execution_count": 11
        },
        {
          "output_type": "display_data",
          "data": {
            "image/png": "[encoded data removed]",
            "text/plain": [
              "<Figure size 432x288 with 2 Axes>"
            ]
          },
          "metadata": {
            "tags": [],
            "needs_background": "light"
          }
        }
      ]
    },
    {
      "cell_type": "code",
      "metadata": {
        "id": "lPpmwmmop36d"
      },
      "source": [
        "## Tried to build LRM for corn yield after 2013 (since 2012 was drought year)\n",
        "# df_corn_2000_X = df_corn_X[df_corn['Year']>=2013]\n",
        "# df_corn_2000_X\n",
        "# X_train_corn, X_test_corn, y_train_corn, y_test_corn = train_test_split(\n",
        "#     df_corn_2000_X[['Year',\"Latitude\",\"Longitude\",'SeasonalTmax','SeasonalPrep','GDD','WetDays']],\n",
        "#     df_corn[df_corn['Year']>=2013]['Value_corn'], test_size=0.20, random_state=42)\n",
        "# LR_corn=LinearRegression().fit(X_train_corn, y_train_corn)\n",
        "# y_pred_corn=LR_corn.predict(X_test_corn)\n",
        "# plt.scatter(LR_corn.predict(X_test_corn),y_test_corn)\n",
        "# print(r2_score(y_test_corn, y_pred_corn), LR_corn.coef_)"
      ],
      "execution_count": null,
      "outputs": []
    },
    {
      "cell_type": "markdown",
      "metadata": {
        "id": "o2WSJ5RHx768"
      },
      "source": [
        "# Cross Validation LR"
      ]
    },
    {
      "cell_type": "markdown",
      "metadata": {
        "id": "cFL73Zz_1Y56"
      },
      "source": [
        "For Corn"
      ]
    },
    {
      "cell_type": "code",
      "metadata": {
        "id": "1tcIrU6Ax7M2",
        "outputId": "75e9cf52-49c3-4efb-e548-984015a9e49d",
        "colab": {
          "base_uri": "https://localhost:8080/",
          "height": 98
        }
      },
      "source": [
        "kf = KFold(n_splits=5,shuffle=False)\n",
        "\n",
        "df_corn=df_data.drop(\"Value_soybean\",axis=1)\n",
        "df_corn.dropna(inplace=True)\n",
        "df_corn_X=df_corn.drop(\"Value_corn\",axis=1)\n",
        "\n",
        "X=df_corn_X[[\"Year\",\"Latitude\",\"Longitude\",\"SeasonalTmax\",\"GDD\",\"SeasonalAvgTmin\",\"DaysA30\"]]\n",
        "y=df_corn['Value_corn']\n",
        "accuracy = []\n",
        "\n",
        "for train_index, test_index in kf.split(df_corn):\n",
        "  X_train, X_test = X.iloc[train_index], X.iloc[test_index]\n",
        "  y_train, y_test = y.iloc[train_index], y.iloc[test_index]\n",
        "  LR_corn=LinearRegression().fit(X_train, y_train)\n",
        "  y_pred=LR_corn.predict(X_test)\n",
        "  accuracy.append(r2_score(y_test, y_pred))\n",
        "\n",
        "accuracy\n",
        "\n"
      ],
      "execution_count": null,
      "outputs": [
        {
          "output_type": "execute_result",
          "data": {
            "text/plain": [
              "[0.8149029463959516,\n",
              " 0.8167252879819842,\n",
              " 0.8171675187195975,\n",
              " 0.8103294373417654,\n",
              " 0.838324586010563]"
            ]
          },
          "metadata": {
            "tags": []
          },
          "execution_count": 17
        }
      ]
    },
    {
      "cell_type": "markdown",
      "metadata": {
        "id": "gpdvAlBr1bEB"
      },
      "source": [
        "For Soybean"
      ]
    },
    {
      "cell_type": "code",
      "metadata": {
        "id": "PnMH0m_v1cx3",
        "outputId": "fbb69149-fe25-4d27-8170-9cc06cd641a7",
        "colab": {
          "base_uri": "https://localhost:8080/",
          "height": 98
        }
      },
      "source": [
        "kf = KFold(n_splits=5,shuffle=False)\n",
        "\n",
        "df_soybean=df_data.drop(\"Value_corn\",axis=1)\n",
        "df_soybean.dropna(inplace=True)\n",
        "df_soybean_X=df_soybean.drop(\"Value_soybean\",axis=1)\n",
        "\n",
        "X=df_soybean_X[[\"Year\",\"Latitude\",\"Longitude\",\"SeasonalTmax\",\"GDD\",\"SeasonalAvgTmin\",\"DaysA30\"]]\n",
        "y=df_soybean['Value_soybean']\n",
        "accuracy = []\n",
        "\n",
        "for train_index, test_index in kf.split(df_soybean):\n",
        "  X_train, X_test = X.iloc[train_index], X.iloc[test_index]\n",
        "  y_train, y_test = y.iloc[train_index], y.iloc[test_index]\n",
        "  LR_soybean=LinearRegression().fit(X_train, y_train)\n",
        "  y_pred=LR_soybean.predict(X_test)\n",
        "  accuracy.append(r2_score(y_test, y_pred))\n",
        "\n",
        "accuracy\n",
        "\n"
      ],
      "execution_count": null,
      "outputs": [
        {
          "output_type": "execute_result",
          "data": {
            "text/plain": [
              "[0.7548760546345836,\n",
              " 0.7961768937913218,\n",
              " 0.7599052522713304,\n",
              " 0.7768333499982363,\n",
              " 0.7887562494307871]"
            ]
          },
          "metadata": {
            "tags": []
          },
          "execution_count": 18
        }
      ]
    },
    {
      "cell_type": "markdown",
      "metadata": {
        "id": "b02hW15CQKjP"
      },
      "source": [
        "# Gradient Boosting Regression Mode"
      ]
    },
    {
      "cell_type": "markdown",
      "metadata": {
        "id": "S9kZjrjAOZEN"
      },
      "source": [
        "## Gradient Boosting Regression Model for Soybean"
      ]
    },
    {
      "cell_type": "code",
      "metadata": {
        "id": "FqcRy8fGwk6n"
      },
      "source": [
        "# params = {'n_estimators': 200, 'max_depth': 4, 'min_samples_split': 3,\n",
        "#           'learning_rate': 0.1, 'loss': 'ls'}\n",
        "# clf = ensemble.GradientBoostingRegressor(**params)\n",
        "# clf.fit(X_train_soybean, y_train_soybean)\n"
      ],
      "execution_count": null,
      "outputs": []
    },
    {
      "cell_type": "code",
      "metadata": {
        "id": "xukMOLdCFeDf"
      },
      "source": [
        "# plt.scatter(clf.predict(X_test_soybean),y_test_soybean)"
      ],
      "execution_count": null,
      "outputs": []
    },
    {
      "cell_type": "code",
      "metadata": {
        "id": "RXJF9PrJGNA3"
      },
      "source": [
        "# y_pred_corn=clf.predict(X_test_soybean)\n",
        "# r2_score(y_test_soybean, y_pred_corn)"
      ],
      "execution_count": null,
      "outputs": []
    },
    {
      "cell_type": "markdown",
      "metadata": {
        "id": "J5FrPPpBOjIG"
      },
      "source": [
        "## Gradient Boosting Regression Model for Corn"
      ]
    },
    {
      "cell_type": "code",
      "metadata": {
        "id": "ARo0Ho-jGbUF"
      },
      "source": [
        "# clf = ensemble.GradientBoostingRegressor(**params)\n",
        "# clf.fit(X_train_corn, y_train_corn)\n",
        "# plt.scatter(clf.predict(X_test_corn),y_test_corn)"
      ],
      "execution_count": null,
      "outputs": []
    },
    {
      "cell_type": "code",
      "metadata": {
        "id": "XxwOO-ZH7Q2W"
      },
      "source": [
        "# y_pred_corn=clf.predict(X_test_corn)\n",
        "# r2_score(y_test_corn, y_pred_corn)"
      ],
      "execution_count": null,
      "outputs": []
    },
    {
      "cell_type": "markdown",
      "metadata": {
        "id": "U5nmdl7qO51G"
      },
      "source": [
        "## Gradient Boosting Regression Model for Soybean with Lat/Lon as Variable"
      ]
    },
    {
      "cell_type": "code",
      "metadata": {
        "id": "nns1K0g0PXkY",
        "outputId": "8799f2f8-109a-4ec4-a3e3-d54754eefc74",
        "colab": {
          "base_uri": "https://localhost:8080/",
          "height": 282
        }
      },
      "source": [
        "df_soybean=df_data.drop([\"Value_corn\",\"County\"],axis=1)\n",
        "df_soybean.dropna(inplace=True)\n",
        "df_soybean_X=df_soybean.drop(\"Value_soybean\",axis=1)\n",
        "X_train_soybean, X_test_soybean, y_train_soybean, y_test_soybean = train_test_split(\n",
        "    df_soybean_X[[\"Year\",\"Latitude\",\"Longitude\",\"GDD\",\"SeasonalPrep\",\"SeasonalTmax\",\"DaysB10\"]],\n",
        "    df_soybean[\"Value_soybean\"], test_size=0.30, random_state=42)\n",
        "params = {'n_estimators': 200, 'max_depth': 4, 'min_samples_split': 3,\n",
        "          'learning_rate': 0.1, 'loss': 'ls'}\n",
        "clf = ensemble.GradientBoostingRegressor(**params)\n",
        "clf.fit(X_train_soybean, y_train_soybean)\n",
        "plt.scatter(clf.predict(X_test_soybean),y_test_soybean)"
      ],
      "execution_count": null,
      "outputs": [
        {
          "output_type": "execute_result",
          "data": {
            "text/plain": [
              "<matplotlib.collections.PathCollection at 0x7ff964c10a58>"
            ]
          },
          "metadata": {
            "tags": []
          },
          "execution_count": 21
        },
        {
          "output_type": "display_data",
          "data": {
            "image/png": "[encoded data removed]",
            "text/plain": [
              "<Figure size 432x288 with 1 Axes>"
            ]
          },
          "metadata": {
            "tags": [],
            "needs_background": "light"
          }
        }
      ]
    },
    {
      "cell_type": "code",
      "metadata": {
        "id": "3MNAa4BAQYNF",
        "outputId": "41fc3561-3f51-4509-9698-8cb776091328",
        "colab": {
          "base_uri": "https://localhost:8080/",
          "height": 34
        }
      },
      "source": [
        "y_pred_soybean=clf.predict(X_test_soybean)\n",
        "r2_score(y_test_soybean, y_pred_soybean)\n",
        "\n",
        "# Checking R2_score for yield after 2010\n",
        "\n",
        "# x, y =[], []\n",
        "# for i in range(len(y_test_soybean)):\n",
        "#   if X_test_soybean.iloc[i]['Year'] > 2010:\n",
        "#     # print(X_test_soybean.iloc[i]['Year'],y_test_soybean.iloc[i], \"%0.1f\" % y_pred_soybean[i])\n",
        "#     x.append(y_test_soybean.iloc[i])\n",
        "#     y.append(y_pred_soybean[i])\n",
        "#     # plt.scatter(y_test_soybean.iloc[i],y_pred_soybean[i])\n",
        "# r2_score(y_test_soybean, y_pred_soybean), r2_score(x, y)"
      ],
      "execution_count": null,
      "outputs": [
        {
          "output_type": "execute_result",
          "data": {
            "text/plain": [
              "0.9304820396979142"
            ]
          },
          "metadata": {
            "tags": []
          },
          "execution_count": 22
        }
      ]
    },
    {
      "cell_type": "markdown",
      "metadata": {
        "id": "yiMByHAmPEji"
      },
      "source": [
        "## Gradient Boosting Regression Model for Corn with Lat/Lon as Variable"
      ]
    },
    {
      "cell_type": "code",
      "metadata": {
        "id": "NgpE690VE654",
        "outputId": "47a1d67d-9082-42ed-de3e-10cb7694363b",
        "colab": {
          "base_uri": "https://localhost:8080/",
          "height": 168
        }
      },
      "source": [
        "params = {'n_estimators': 200, 'max_depth': 4, 'min_samples_split': 3,\n",
        "          'learning_rate': 0.1, 'loss': 'ls'}\n",
        "df_corn=df_data.drop([\"Value_soybean\",\"County\"],axis=1)\n",
        "df_corn.dropna(inplace=True)\n",
        "df_corn_X=df_corn.drop(\"Value_corn\",axis=1)\n",
        "X_train_corn, X_test_corn, y_train_corn, y_test_corn = train_test_split(\n",
        "    df_corn_X[[\"Year\",\"Latitude\",\"Longitude\",\"GDD\",\"SeasonalPrep\",\"SeasonalTmax\",\"DaysB10\"]],\n",
        "    df_corn[\"Value_corn\"], test_size=0.30, random_state=42)\n",
        "clf = ensemble.GradientBoostingRegressor(**params)\n",
        "clf.fit(X_train_corn, y_train_corn)"
      ],
      "execution_count": null,
      "outputs": [
        {
          "output_type": "execute_result",
          "data": {
            "text/plain": [
              "GradientBoostingRegressor(alpha=0.9, ccp_alpha=0.0, criterion='friedman_mse',\n",
              "                          init=None, learning_rate=0.1, loss='ls', max_depth=4,\n",
              "                          max_features=None, max_leaf_nodes=None,\n",
              "                          min_impurity_decrease=0.0, min_impurity_split=None,\n",
              "                          min_samples_leaf=1, min_samples_split=3,\n",
              "                          min_weight_fraction_leaf=0.0, n_estimators=200,\n",
              "                          n_iter_no_change=None, presort='deprecated',\n",
              "                          random_state=None, subsample=1.0, tol=0.0001,\n",
              "                          validation_fraction=0.1, verbose=0, warm_start=False)"
            ]
          },
          "metadata": {
            "tags": []
          },
          "execution_count": 23
        }
      ]
    },
    {
      "cell_type": "code",
      "metadata": {
        "id": "CaOjsT1oFXRa",
        "outputId": "7bedcf5e-f294-4056-ee53-e01886f6cdd5",
        "colab": {
          "base_uri": "https://localhost:8080/",
          "height": 282
        }
      },
      "source": [
        "plt.scatter(clf.predict(X_test_corn),y_test_corn)"
      ],
      "execution_count": null,
      "outputs": [
        {
          "output_type": "execute_result",
          "data": {
            "text/plain": [
              "<matplotlib.collections.PathCollection at 0x7ff964bf4d30>"
            ]
          },
          "metadata": {
            "tags": []
          },
          "execution_count": 24
        },
        {
          "output_type": "display_data",
          "data": {
            "image/png": "[encoded data removed]",
            "text/plain": [
              "<Figure size 432x288 with 1 Axes>"
            ]
          },
          "metadata": {
            "tags": [],
            "needs_background": "light"
          }
        }
      ]
    },
    {
      "cell_type": "code",
      "metadata": {
        "id": "On0WuE2BFbve",
        "outputId": "dcc0d4ea-efcd-45c4-a614-7642a9886540",
        "colab": {
          "base_uri": "https://localhost:8080/",
          "height": 34
        }
      },
      "source": [
        "y_pred_corn=clf.predict(X_test_corn)\n",
        "r2_score(y_test_corn, y_pred_corn)"
      ],
      "execution_count": null,
      "outputs": [
        {
          "output_type": "execute_result",
          "data": {
            "text/plain": [
              "0.9487180448196256"
            ]
          },
          "metadata": {
            "tags": []
          },
          "execution_count": 25
        }
      ]
    },
    {
      "cell_type": "markdown",
      "metadata": {
        "id": "LsxyK7Vf2XVj"
      },
      "source": [
        "# Cross Validation GB"
      ]
    },
    {
      "cell_type": "markdown",
      "metadata": {
        "id": "Jlq9tp0t2b0j"
      },
      "source": [
        "For Corn"
      ]
    },
    {
      "cell_type": "code",
      "metadata": {
        "id": "F_oEOSpw2bNu",
        "outputId": "87bede95-f856-47af-92a4-c7114abcbb61",
        "colab": {
          "base_uri": "https://localhost:8080/",
          "height": 98
        }
      },
      "source": [
        "kf = KFold(n_splits=5,shuffle=False)\n",
        "\n",
        "params = {'n_estimators': 200, 'max_depth': 4, 'min_samples_split': 3,\n",
        "          'learning_rate': 0.1, 'loss': 'ls'}\n",
        "df_corn=df_data.drop([\"Value_soybean\",\"County\"],axis=1)\n",
        "df_corn.dropna(inplace=True)\n",
        "df_corn_X=df_corn.drop(\"Value_corn\",axis=1)\n",
        "\n",
        "X = df_corn_X[[\"Year\",\"Latitude\",\"Longitude\",\"GDD\",\"SeasonalPrep\",\"SeasonalTmax\",\"DaysB10\"]]\n",
        "y = df_corn[\"Value_corn\"]\n",
        "accuracy = []\n",
        "\n",
        "for train_index, test_index in kf.split(df_corn):\n",
        "  X_train, X_test = X.iloc[train_index], X.iloc[test_index]\n",
        "  y_train, y_test = y.iloc[train_index], y.iloc[test_index]\n",
        "  clf = ensemble.GradientBoostingRegressor(**params)\n",
        "  clf.fit(X_train, y_train)\n",
        "  y_pred=clf.predict(X_test)\n",
        "  accuracy.append(r2_score(y_test, y_pred))\n",
        "\n",
        "accuracy\n",
        "\n"
      ],
      "execution_count": null,
      "outputs": [
        {
          "output_type": "execute_result",
          "data": {
            "text/plain": [
              "[0.926946708999173,\n",
              " 0.9269607497499321,\n",
              " 0.9313602270628407,\n",
              " 0.9350354583234399,\n",
              " 0.9466104208922493]"
            ]
          },
          "metadata": {
            "tags": []
          },
          "execution_count": 31
        }
      ]
    },
    {
      "cell_type": "markdown",
      "metadata": {
        "id": "HcnsgfhM3SjE"
      },
      "source": [
        "For Soybean"
      ]
    },
    {
      "cell_type": "code",
      "metadata": {
        "id": "ox2PG5kJ3UWq",
        "outputId": "abbb1c00-7135-4746-8401-7798ce9df0b4",
        "colab": {
          "base_uri": "https://localhost:8080/",
          "height": 98
        }
      },
      "source": [
        "kf = KFold(n_splits=5,shuffle=False)\n",
        "\n",
        "params = {'n_estimators': 200, 'max_depth': 4, 'min_samples_split': 3,\n",
        "          'learning_rate': 0.1, 'loss': 'ls'}\n",
        "df_soybean=df_data.drop(\"Value_corn\",axis=1)\n",
        "df_soybean.dropna(inplace=True)\n",
        "df_soybean_X=df_soybean.drop(\"Value_soybean\",axis=1)\n",
        "\n",
        "X=df_soybean_X[[\"Year\",\"Latitude\",\"Longitude\",\"GDD\",\"SeasonalPrep\",\"SeasonalTmax\",\"DaysB10\"]]\n",
        "y=df_soybean['Value_soybean']\n",
        "accuracy = []\n",
        "\n",
        "for train_index, test_index in kf.split(df_soybean):\n",
        "  X_train, X_test = X.iloc[train_index], X.iloc[test_index]\n",
        "  y_train, y_test = y.iloc[train_index], y.iloc[test_index]\n",
        "  clf = ensemble.GradientBoostingRegressor(**params)\n",
        "  clf.fit(X_train, y_train)\n",
        "  y_pred=clf.predict(X_test)\n",
        "  accuracy.append(r2_score(y_test, y_pred))\n",
        "\n",
        "accuracy\n",
        "\n"
      ],
      "execution_count": null,
      "outputs": [
        {
          "output_type": "execute_result",
          "data": {
            "text/plain": [
              "[0.8948023979349798,\n",
              " 0.9036699258399945,\n",
              " 0.90802543829677,\n",
              " 0.9227730318264802,\n",
              " 0.9242963760034762]"
            ]
          },
          "metadata": {
            "tags": []
          },
          "execution_count": 26
        }
      ]
    }
  ]
}