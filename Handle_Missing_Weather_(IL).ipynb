{
  "nbformat": 4,
  "nbformat_minor": 0,
  "metadata": {
    "colab": {
      "name": "Handle_Missing_Weather (IL).ipynb",
      "provenance": [],
      "collapsed_sections": []
    },
    "kernelspec": {
      "display_name": "Python 3",
      "language": "python",
      "name": "python3"
    },
    "language_info": {
      "codemirror_mode": {
        "name": "ipython",
        "version": 3
      },
      "file_extension": ".py",
      "mimetype": "text/x-python",
      "name": "python",
      "nbconvert_exporter": "python",
      "pygments_lexer": "ipython3",
      "version": "3.8.1"
    }
  },
  "cells": [
    {
      "cell_type": "code",
      "metadata": {
        "id": "zpgrwukGK-ab"
      },
      "source": [
        "import numpy as np\n",
        "import pandas as pd\n",
        "from matplotlib import pyplot as plt\n",
        "from datetime import date\n",
        "import os\n",
        "\n",
        "# To avoid unnecessary warnings in the code\n",
        "import warnings\n",
        "warnings.filterwarnings('ignore')"
      ],
      "execution_count": null,
      "outputs": []
    },
    {
      "cell_type": "code",
      "metadata": {
        "id": "c8GYiF-iKpXw",
        "outputId": "4a94dd97-2062-4276-e834-5c9ef319e1ab",
        "colab": {
          "base_uri": "https://localhost:8080/",
          "height": 125
        }
      },
      "source": [
        "try:\n",
        "  from google.colab import drive\n",
        "  IN_COLAB = True\n",
        "except:\n",
        "  IN_COLAB = False\n",
        "  os.chdir(\"F:\\My Drive\\Shared\\CS 498 Projects\\Final Project\\Data\")\n",
        "if IN_COLAB:\n",
        "  drive.mount('/content/drive')\n",
        "  os.chdir(\"/content/drive/My Drive/Shared/CS 498 Projects/Final Project/Data\")\n",
        "  os.listdir(\"/content/drive/My Drive/Shared/CS 498 Projects/Final Project/Data\")\n",
        "df_prep = pd.read_csv('Illinois/Cleaned_Weather/DailyPrep~1950-2019@IL.csv',\n",
        "                      sep=',', index_col='Date',na_values=-99)\n",
        "df_tmax = pd.read_csv('Illinois/Cleaned_Weather/DailyTmax~1950-2019@IL.csv',\n",
        "                      sep=',', index_col='Date',na_values=-99)\n",
        "df_tmin = pd.read_csv('Illinois/Cleaned_Weather/DailyTmin~1950-2019@IL.csv',\n",
        "                      sep=',', index_col='Date',na_values=-99)\n",
        "\n",
        "# Change the index 'Date' format to python datetime.date(yyyy,mm,dd) format\n",
        "date_index = [date(int(d.split('/')[2]),\n",
        "                   int(d.split('/')[1]),\n",
        "                   int(d.split('/')[0])) \n",
        "              for d in df_prep.index]\n",
        "df_prep.set_index(pd.Index(date_index),'Date', inplace=True)\n",
        "df_tmax.set_index(pd.Index(date_index),'Date', inplace=True)\n",
        "df_tmin.set_index(pd.Index(date_index),'Date', inplace=True)"
      ],
      "execution_count": null,
      "outputs": [
        {
          "output_type": "stream",
          "text": [
            "Go to this URL in a browser: https://accounts.google.com/o/oauth2/auth?client_id=947318989803-6bn6qk8qdgf4n4g3pfee6491hc0brc4i.apps.googleusercontent.com&redirect_uri=urn%3aietf%3awg%3aoauth%3a2.0%3aoob&response_type=code&scope=email%20https%3a%2f%2fwww.googleapis.com%2fauth%2fdocs.test%20https%3a%2f%2fwww.googleapis.com%2fauth%2fdrive%20https%3a%2f%2fwww.googleapis.com%2fauth%2fdrive.photos.readonly%20https%3a%2f%2fwww.googleapis.com%2fauth%2fpeopleapi.readonly\n",
            "\n",
            "Enter your authorization code:\n",
            "··········\n",
            "Mounted at /content/drive\n"
          ],
          "name": "stdout"
        }
      ]
    },
    {
      "cell_type": "code",
      "metadata": {
        "id": "sHOTaxMqLwuY"
      },
      "source": [
        "#Creating dataframes with values only between mid-april and mid-october.\n",
        "APRIL = 4\n",
        "OCTOBER = 10\n",
        "req_date_index = []\n",
        "req_date_index = [i for i,d in enumerate(df_prep.index) if date(d.year,APRIL,15) < d <= date(d.year,OCTOBER,15)]\n",
        "\n",
        "df_prep_crop = df_prep.iloc[req_date_index,:]\n",
        "df_tmax_crop = df_tmax.iloc[req_date_index,:]\n",
        "df_tmin_crop = df_tmin.iloc[req_date_index,:]"
      ],
      "execution_count": null,
      "outputs": []
    },
    {
      "cell_type": "code",
      "metadata": {
        "id": "D4lrd8NbymA-"
      },
      "source": [
        "County = [''.join(c.upper().replace('.','').split()) for c in df_prep_crop.columns.values]\n",
        "\n",
        "for i in range(len(County)):\n",
        "    if County[i] == 'ROCKISLAND':\n",
        "        County[i] = 'ROCK ISLAND'\n",
        "    if County[i] == 'DEWITT':\n",
        "        County[i] = 'DE WITT'\n",
        "    if County[i] =='JODAVIESS':\n",
        "        County[i] = 'JO DAVIESS'\n",
        "    if County[i] =='STCLAIR':\n",
        "        County[i] = 'ST. CLAIR'\n",
        "\n",
        "df_tmax_crop.columns = County\n",
        "df_tmin_crop.columns = County\n",
        "df_prep_crop.columns = County"
      ],
      "execution_count": null,
      "outputs": []
    },
    {
      "cell_type": "code",
      "metadata": {
        "id": "uCxWzTyRS92i"
      },
      "source": [
        "#Checking the number of missing values for each year of all counties\n",
        "year = [1950+i for i in range(70)]\n",
        "df_missing_prep = pd.DataFrame(index=df_prep_crop.columns)\n",
        "df_missing_tmax = pd.DataFrame(index=df_tmax_crop.columns)\n",
        "df_missing_tmin = pd.DataFrame(index=df_tmin_crop.columns)\n",
        "for y in year:\n",
        "  df_missing_prep[str(y)] = df_prep_crop.loc[date(y,1,1):date(y,12,31),:].isnull().sum().values\n",
        "  df_missing_tmax[str(y)] = df_tmax_crop.loc[date(y,1,1):date(y,12,31),:].isnull().sum().values\n",
        "  df_missing_tmin[str(y)] = df_tmin_crop.loc[date(y,1,1):date(y,12,31),:].isnull().sum().values\n",
        "\n",
        "df_missing_prep.to_csv('Illinois/Cleaned_Weather/missing_prep.csv')\n",
        "df_missing_tmax.to_csv('Illinois/Cleaned_Weather/missing_tmax.csv')\n",
        "df_missing_tmin.to_csv('Illinois/Cleaned_Weather/missing_tmin.csv')"
      ],
      "execution_count": null,
      "outputs": []
    },
    {
      "cell_type": "code",
      "metadata": {
        "id": "mYVtYEt4inVP"
      },
      "source": [
        "#Defining a function to handle the missing values in precipitation.\n",
        "def handle_missing_prep(cur_date, all_date, county_name):\n",
        "  year = list(set([d.year for d in all_date]))\n",
        "  cur_year = cur_date.year\n",
        "  num_miss = df_missing_prep.loc[county_name, str(cur_year)]\n",
        "  year_index = year.index(cur_year)\n",
        "  if num_miss != 0:\n",
        "    if year_index >= 5:\n",
        "      req_dates = []\n",
        "      for i in range(year_index-5,year_index):\n",
        "        for day in range(32):\n",
        "          try:\n",
        "            req_dates.append(date(year[i],cur_date.month, day))\n",
        "          except:\n",
        "            pass\n",
        "    else:\n",
        "      req_dates = []\n",
        "      for i in range(0,year_index+1):\n",
        "        for day in range(32):\n",
        "          try:\n",
        "            req_dates.append(date(year[i],cur_date.month, day))\n",
        "          except:\n",
        "            pass\n",
        "    return req_dates\n",
        "  else:\n",
        "    return cur_date\n",
        "\n",
        "for county in df_prep_crop.columns:\n",
        "  for d in df_prep_crop.index:\n",
        "    if np.isnan(df_prep_crop.loc[d, county]):\n",
        "      df_prep_crop.loc[d, county] = np.mean(df_prep_crop.loc[handle_missing_prep(d, df_prep.index, county),county])\n"
      ],
      "execution_count": null,
      "outputs": []
    },
    {
      "cell_type": "code",
      "metadata": {
        "id": "btmVlNjMsoKy",
        "outputId": "c3b0852b-6453-49a6-9a33-65da0658518c",
        "colab": {
          "base_uri": "https://localhost:8080/",
          "height": 283
        }
      },
      "source": [
        "#Checking the number of missing values for each year of all counties after replacing. \n",
        "df_missing_prep_ = pd.DataFrame(index=df_prep_crop.columns)\n",
        "for y in year:\n",
        "  df_missing_prep_[str(y)] = df_prep_crop.loc[date(y,1,1):date(y,12,31),:].isnull().sum().values\n",
        "df_missing_prep_.sum(axis=1).values,df_missing_prep.sum(axis=1).values"
      ],
      "execution_count": null,
      "outputs": [
        {
          "output_type": "execute_result",
          "data": {
            "text/plain": [
              "(array([0, 0, 0, 0, 0, 0, 0, 0, 0, 0, 0, 0, 0, 0, 0, 0, 0, 0, 0, 0, 0, 0,\n",
              "        0, 0, 0, 0, 0, 0, 0, 0, 0, 0, 0, 0, 0, 0, 0, 0, 0, 0, 0, 0, 0, 0,\n",
              "        0, 0, 0, 0, 0, 0, 0, 0, 0, 0, 0, 0, 0, 0, 0, 0, 0, 0, 0, 0, 0, 0,\n",
              "        0, 0, 0, 0, 0, 0, 0, 0, 0, 0, 0, 0, 0, 0, 0, 0, 0, 0, 0, 0, 0, 0,\n",
              "        0, 0, 0, 0, 0, 0, 0, 0, 0, 0, 0, 0, 0, 0]),\n",
              " array([   4,  436,   62,   33,   16,  570,   15,    1,    0,    5,    0,\n",
              "          34,   20,    0,    0,    0,    0,    1,   71,  619,   35,    5,\n",
              "         575, 1176,    0,    0,    7,    3,    3,    0,  205,   14,    0,\n",
              "        1304,    0,  343,    5,    0,    0,    0,   47,    0,   22,    0,\n",
              "        1459,    0,    0,    1,    0,    0,    0,    8,    0,    0,    0,\n",
              "           0,    5,    0,   22,   21,   39,    0,    0,    0,    0,  561,\n",
              "           0,   11,   20,    1,    0,    0,   16,    0,   73,   23,  219,\n",
              "         249,    0,    0,  377,    0,    0,  130,  737,    0,    0,  159,\n",
              "           0,    1,  450,    0,  811,   25,    3,    6,  139,    0,    0,\n",
              "          18,    0,    0]))"
            ]
          },
          "metadata": {
            "tags": []
          },
          "execution_count": 7
        }
      ]
    },
    {
      "cell_type": "code",
      "metadata": {
        "id": "cfJeThz085-a",
        "outputId": "5e8f5433-b5cc-4a42-c426-0b4f9b7cea6f",
        "colab": {
          "base_uri": "https://localhost:8080/",
          "height": 461
        }
      },
      "source": [
        "!pip install geopandas\n",
        "import geopandas as gpd\n",
        "gdf = gpd.read_file('Illinois/GIS Files/Illinois_Counties_GCS_WGS84.shp')\n",
        "adjacent={}\n",
        "centroid=[]\n",
        "for i in range(len(gdf.index)):\n",
        " centroid.append(gdf.iloc[i].geometry.centroid.y)\n",
        "df_county_lat = pd.DataFrame({'Latitude': centroid}, index=gdf.iloc[:].COUNTY_NAM)\n",
        "\n",
        "for County_ in df_county_lat.index: \n",
        "  County_lat_diff = pd.DataFrame(index=pd.Index(['Distance']))\n",
        "  for County in df_county_lat.index:\n",
        "      County_lat_diff[County] = [abs(df_county_lat.loc[County,'Latitude'] - df_county_lat.loc[County_,'Latitude'])]\n",
        "\n",
        "  adjacent[County_] = list(County_lat_diff.T.sort_values(by=['Distance']).iloc[1:6].index)\n"
      ],
      "execution_count": null,
      "outputs": [
        {
          "output_type": "stream",
          "text": [
            "Collecting geopandas\n",
            "\u001b[?25l  Downloading https://files.pythonhosted.org/packages/83/c5/3cf9cdc39a6f2552922f79915f36b45a95b71fd343cfc51170a5b6ddb6e8/geopandas-0.7.0-py2.py3-none-any.whl (928kB)\n",
            "\u001b[K     |████████████████████████████████| 931kB 4.6MB/s \n",
            "\u001b[?25hCollecting pyproj>=2.2.0\n",
            "\u001b[?25l  Downloading https://files.pythonhosted.org/packages/ce/37/705ee471f71130d4ceee41bbcb06f3b52175cb89273cbb5755ed5e6374e0/pyproj-2.6.0-cp36-cp36m-manylinux2010_x86_64.whl (10.4MB)\n",
            "\u001b[K     |████████████████████████████████| 10.4MB 14.8MB/s \n",
            "\u001b[?25hCollecting fiona\n",
            "\u001b[?25l  Downloading https://files.pythonhosted.org/packages/ec/20/4e63bc5c6e62df889297b382c3ccd4a7a488b00946aaaf81a118158c6f09/Fiona-1.8.13.post1-cp36-cp36m-manylinux1_x86_64.whl (14.7MB)\n",
            "\u001b[K     |████████████████████████████████| 14.7MB 251kB/s \n",
            "\u001b[?25hRequirement already satisfied: shapely in /usr/local/lib/python3.6/dist-packages (from geopandas) (1.7.0)\n",
            "Requirement already satisfied: pandas>=0.23.0 in /usr/local/lib/python3.6/dist-packages (from geopandas) (0.25.3)\n",
            "Requirement already satisfied: six>=1.7 in /usr/local/lib/python3.6/dist-packages (from fiona->geopandas) (1.12.0)\n",
            "Requirement already satisfied: click<8,>=4.0 in /usr/local/lib/python3.6/dist-packages (from fiona->geopandas) (7.1.1)\n",
            "Collecting munch\n",
            "  Downloading https://files.pythonhosted.org/packages/cc/ab/85d8da5c9a45e072301beb37ad7f833cd344e04c817d97e0cc75681d248f/munch-2.5.0-py2.py3-none-any.whl\n",
            "Requirement already satisfied: attrs>=17 in /usr/local/lib/python3.6/dist-packages (from fiona->geopandas) (19.3.0)\n",
            "Collecting click-plugins>=1.0\n",
            "  Downloading https://files.pythonhosted.org/packages/e9/da/824b92d9942f4e472702488857914bdd50f73021efea15b4cad9aca8ecef/click_plugins-1.1.1-py2.py3-none-any.whl\n",
            "Collecting cligj>=0.5\n",
            "  Downloading https://files.pythonhosted.org/packages/e4/be/30a58b4b0733850280d01f8bd132591b4668ed5c7046761098d665ac2174/cligj-0.5.0-py3-none-any.whl\n",
            "Requirement already satisfied: numpy>=1.13.3 in /usr/local/lib/python3.6/dist-packages (from pandas>=0.23.0->geopandas) (1.18.2)\n",
            "Requirement already satisfied: pytz>=2017.2 in /usr/local/lib/python3.6/dist-packages (from pandas>=0.23.0->geopandas) (2018.9)\n",
            "Requirement already satisfied: python-dateutil>=2.6.1 in /usr/local/lib/python3.6/dist-packages (from pandas>=0.23.0->geopandas) (2.8.1)\n",
            "Installing collected packages: pyproj, munch, click-plugins, cligj, fiona, geopandas\n",
            "Successfully installed click-plugins-1.1.1 cligj-0.5.0 fiona-1.8.13.post1 geopandas-0.7.0 munch-2.5.0 pyproj-2.6.0\n"
          ],
          "name": "stdout"
        }
      ]
    },
    {
      "cell_type": "code",
      "metadata": {
        "id": "3SPp1GXaDgWW"
      },
      "source": [
        "#Handling missing data in minimum temperature and maximum temperature.\n",
        "for county in df_tmax_crop.columns:\n",
        "  adjacent_counties = adjacent[county]\n",
        "  for d in df_tmax_crop.index:\n",
        "    if np.isnan(df_tmax_crop.loc[d, county]):\n",
        "      for adjacent_county in adjacent_counties:\n",
        "        if not np.isnan(df_tmax_crop.loc[d, adjacent_county]):    \n",
        "          df_tmax_crop.loc[d, county] = df_tmax_crop.loc[d, adjacent_county]\n",
        "          break\n",
        "    if np.isnan(df_tmin_crop.loc[d, county]):\n",
        "      for adjacent_county in adjacent_counties:\n",
        "        if not np.isnan(df_tmin_crop.loc[d, adjacent_county]):    \n",
        "          df_tmin_crop.loc[d, county] = df_tmin_crop.loc[d, adjacent_county]\n",
        "          break\n",
        "  "
      ],
      "execution_count": null,
      "outputs": []
    },
    {
      "cell_type": "code",
      "metadata": {
        "id": "rzkkkwgjP0r6"
      },
      "source": [
        "df_missing_tmax_ = pd.DataFrame(index=df_tmax_crop.columns)\n",
        "df_missing_tmin_ = pd.DataFrame(index=df_tmin_crop.columns)\n",
        "for y in year:\n",
        "  df_missing_tmax_[str(y)] = df_tmax_crop.loc[date(y,1,1):date(y,12,31),:].isnull().sum().values\n",
        "  df_missing_tmin_[str(y)] = df_tmin_crop.loc[date(y,1,1):date(y,12,31),:].isnull().sum().values"
      ],
      "execution_count": null,
      "outputs": []
    },
    {
      "cell_type": "code",
      "metadata": {
        "id": "ce4ynaBJ60TE",
        "outputId": "5b8bf6de-4f75-4995-97e4-d04f60401e62",
        "colab": {
          "base_uri": "https://localhost:8080/",
          "height": 283
        }
      },
      "source": [
        "#Checking the number of missing values of minimum temperature for each year of all counties after replacing. \n",
        "df_missing_tmin_.sum(axis=1).values,df_missing_tmin.sum(axis=1).values                                                                                                                                                                                                                                                                                                                                                                                              "
      ],
      "execution_count": null,
      "outputs": [
        {
          "output_type": "execute_result",
          "data": {
            "text/plain": [
              "(array([0, 0, 0, 0, 0, 0, 0, 0, 0, 0, 0, 0, 0, 0, 0, 0, 0, 0, 0, 0, 0, 0,\n",
              "        0, 0, 0, 0, 0, 0, 0, 0, 0, 0, 0, 0, 0, 0, 0, 0, 0, 0, 0, 0, 0, 0,\n",
              "        0, 0, 0, 0, 0, 0, 0, 0, 0, 0, 0, 0, 0, 0, 0, 0, 0, 0, 0, 0, 0, 0,\n",
              "        0, 0, 0, 0, 0, 0, 0, 0, 0, 0, 0, 0, 0, 0, 0, 0, 0, 0, 0, 0, 0, 0,\n",
              "        0, 0, 0, 0, 0, 0, 0, 0, 0, 0, 0, 0, 0, 0]),\n",
              " array([   0,    0,    5,  524,    0,   24,    0,    0,   13,  772,    0,\n",
              "         727,    0,   36,   70,    0,    0,    0,  727,  309,    0,    0,\n",
              "         332, 1184,    1,  230,   26,   19,  568,  754, 1414,   24,    0,\n",
              "          95,    2,   94,   13,    0,   15,    0,    0,   43,   48,    0,\n",
              "        1236,    0,    0,    0,    0,    0,   77,    7, 1464,    0,    0,\n",
              "        1014,    0,  524,    0,    0,  398,    5,    0,    0,  772,    0,\n",
              "           1,    0,   65,  146,   96,    0,    7,    0,   76,    0,  364,\n",
              "         188,  155,    1, 1414,    0,    0,  550, 1009,    0,    0,    0,\n",
              "          11,    0, 1221,    0, 1184,    0,   10,    9,   80,    0,    0,\n",
              "         177,    0,    0]))"
            ]
          },
          "metadata": {
            "tags": []
          },
          "execution_count": 12
        }
      ]
    },
    {
      "cell_type": "code",
      "metadata": {
        "id": "n9lhhiJO8ZEv",
        "outputId": "2a0aac95-119c-4757-a856-bccd9edc1142",
        "colab": {
          "base_uri": "https://localhost:8080/",
          "height": 283
        }
      },
      "source": [
        "#Checking the number of missing values of maximum temperature for each year of all counties after replacing. \n",
        "df_missing_tmax_.sum(axis=1).values,df_missing_tmax.sum(axis=1).values  "
      ],
      "execution_count": null,
      "outputs": [
        {
          "output_type": "execute_result",
          "data": {
            "text/plain": [
              "(array([0, 0, 0, 0, 0, 0, 0, 0, 0, 0, 0, 0, 0, 0, 0, 0, 0, 0, 0, 0, 0, 0,\n",
              "        0, 0, 0, 0, 0, 0, 0, 0, 0, 0, 0, 0, 0, 0, 0, 0, 0, 0, 0, 0, 0, 0,\n",
              "        0, 0, 0, 0, 0, 0, 0, 0, 0, 0, 0, 0, 0, 0, 0, 0, 0, 0, 0, 0, 0, 0,\n",
              "        0, 0, 0, 0, 0, 0, 0, 0, 0, 0, 0, 0, 0, 0, 0, 0, 0, 0, 0, 0, 0, 0,\n",
              "        0, 0, 0, 0, 0, 0, 0, 0, 0, 0, 0, 0, 0, 0]),\n",
              " array([   0,    0,    5,  430,    1,   24,    0,    4,    6,  684,    0,\n",
              "         733,    0,   38,   70,    0,    0,    0,  733,  268,    0,    0,\n",
              "         332, 1185,    5,  225,   22,    1,  566,  621, 1412,   24,    0,\n",
              "          79,    2,   78,   16,    0,   15,    0,    0,   35,   41,    0,\n",
              "        1234,    0,    0,    0,    0,    0,   76,    7,    1,    0,    0,\n",
              "        1014,    0,  430,    0,    0,  398,    6,    1,    0,  684,    0,\n",
              "           0,    0,   97,  137,   93,    0,    7,    0,   70,    0,  402,\n",
              "         188,  173,    1, 1412,    0,    0,  551, 1011,    0,    0,    0,\n",
              "           4,    0, 1219,    0, 1185,    0,    9,   10,   64,    0,    0,\n",
              "         177,    0,    0]))"
            ]
          },
          "metadata": {
            "tags": []
          },
          "execution_count": 13
        }
      ]
    },
    {
      "cell_type": "code",
      "metadata": {
        "id": "Ka5jdHgt8wWn"
      },
      "source": [
        "df_prep_crop.to_csv('Illinois/Cleaned_Weather/Daily_prep@IL_1950-2019_Apr-15_Oct-15.csv')\n",
        "df_tmax_crop.to_csv('Illinois/Cleaned_Weather/Daily_tmax@IL_1950-2019_Apr-15_Oct-15.csv')\n",
        "df_tmin_crop.to_csv('Illinois/Cleaned_Weather/Daily_tmin@IL_1950-2019_Apr-15_Oct-15.csv')"
      ],
      "execution_count": null,
      "outputs": []
    }
  ]
}