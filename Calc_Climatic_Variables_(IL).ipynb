{
  "nbformat": 4,
  "nbformat_minor": 0,
  "metadata": {
    "colab": {
      "name": "Calc_Climatic_Variables (IL).ipynb",
      "provenance": [],
      "collapsed_sections": []
    },
    "kernelspec": {
      "name": "python3",
      "display_name": "Python 3"
    }
  },
  "cells": [
    {
      "cell_type": "code",
      "metadata": {
        "id": "JrK3kST8_fPo",
        "outputId": "a2e2b2a3-362b-4401-c18b-e7e0937a2b94",
        "colab": {
          "base_uri": "https://localhost:8080/",
          "height": 442
        }
      },
      "source": [
        "import numpy as np\n",
        "import pandas as pd\n",
        "!pip install geopandas\n",
        "import geopandas as gpd\n",
        "from matplotlib import pyplot as plt\n",
        "from datetime import date\n",
        "import os\n",
        "\n",
        "# To avoid unnecessary warnings in the code\n",
        "import warnings\n",
        "warnings.filterwarnings('ignore')"
      ],
      "execution_count": null,
      "outputs": [
        {
          "output_type": "stream",
          "text": [
            "Collecting geopandas\n",
            "\u001b[?25l  Downloading https://files.pythonhosted.org/packages/83/c5/3cf9cdc39a6f2552922f79915f36b45a95b71fd343cfc51170a5b6ddb6e8/geopandas-0.7.0-py2.py3-none-any.whl (928kB)\n",
            "\u001b[K     |████████████████████████████████| 931kB 2.6MB/s \n",
            "\u001b[?25hRequirement already satisfied: shapely in /usr/local/lib/python3.6/dist-packages (from geopandas) (1.7.0)\n",
            "Collecting pyproj>=2.2.0\n",
            "\u001b[?25l  Downloading https://files.pythonhosted.org/packages/ce/37/705ee471f71130d4ceee41bbcb06f3b52175cb89273cbb5755ed5e6374e0/pyproj-2.6.0-cp36-cp36m-manylinux2010_x86_64.whl (10.4MB)\n",
            "\u001b[K     |████████████████████████████████| 10.4MB 6.8MB/s \n",
            "\u001b[?25hCollecting fiona\n",
            "\u001b[?25l  Downloading https://files.pythonhosted.org/packages/ec/20/4e63bc5c6e62df889297b382c3ccd4a7a488b00946aaaf81a118158c6f09/Fiona-1.8.13.post1-cp36-cp36m-manylinux1_x86_64.whl (14.7MB)\n",
            "\u001b[K     |████████████████████████████████| 14.7MB 334kB/s \n",
            "\u001b[?25hRequirement already satisfied: pandas>=0.23.0 in /usr/local/lib/python3.6/dist-packages (from geopandas) (1.0.3)\n",
            "Collecting munch\n",
            "  Downloading https://files.pythonhosted.org/packages/cc/ab/85d8da5c9a45e072301beb37ad7f833cd344e04c817d97e0cc75681d248f/munch-2.5.0-py2.py3-none-any.whl\n",
            "Requirement already satisfied: click<8,>=4.0 in /usr/local/lib/python3.6/dist-packages (from fiona->geopandas) (7.1.1)\n",
            "Requirement already satisfied: six>=1.7 in /usr/local/lib/python3.6/dist-packages (from fiona->geopandas) (1.12.0)\n",
            "Collecting click-plugins>=1.0\n",
            "  Downloading https://files.pythonhosted.org/packages/e9/da/824b92d9942f4e472702488857914bdd50f73021efea15b4cad9aca8ecef/click_plugins-1.1.1-py2.py3-none-any.whl\n",
            "Collecting cligj>=0.5\n",
            "  Downloading https://files.pythonhosted.org/packages/e4/be/30a58b4b0733850280d01f8bd132591b4668ed5c7046761098d665ac2174/cligj-0.5.0-py3-none-any.whl\n",
            "Requirement already satisfied: attrs>=17 in /usr/local/lib/python3.6/dist-packages (from fiona->geopandas) (19.3.0)\n",
            "Requirement already satisfied: python-dateutil>=2.6.1 in /usr/local/lib/python3.6/dist-packages (from pandas>=0.23.0->geopandas) (2.8.1)\n",
            "Requirement already satisfied: numpy>=1.13.3 in /usr/local/lib/python3.6/dist-packages (from pandas>=0.23.0->geopandas) (1.18.3)\n",
            "Requirement already satisfied: pytz>=2017.2 in /usr/local/lib/python3.6/dist-packages (from pandas>=0.23.0->geopandas) (2018.9)\n",
            "Installing collected packages: pyproj, munch, click-plugins, cligj, fiona, geopandas\n",
            "Successfully installed click-plugins-1.1.1 cligj-0.5.0 fiona-1.8.13.post1 geopandas-0.7.0 munch-2.5.0 pyproj-2.6.0\n"
          ],
          "name": "stdout"
        }
      ]
    },
    {
      "cell_type": "code",
      "metadata": {
        "id": "oFD-dzBB_hEc",
        "outputId": "8f4715d3-f313-488e-9e9a-4b9fe21338a3",
        "colab": {
          "base_uri": "https://localhost:8080/",
          "height": 122
        }
      },
      "source": [
        "try:\n",
        "  from google.colab import drive\n",
        "  IN_COLAB = True\n",
        "except:\n",
        "  IN_COLAB = False\n",
        "  os.chdir(\"F:\\My Drive\\Shared\\CS 498 Projects\\Final Project\\Data\")\n",
        "if IN_COLAB:\n",
        "  drive.mount('/content/drive')\n",
        "  os.chdir(\"/content/drive/My Drive/Shared/CS 498 Projects/Final Project/Data\")\n",
        "  os.listdir(\"/content/drive/My Drive/Shared/CS 498 Projects/Final Project/Data\")\n",
        "df_prep = pd.read_csv('Illinois/Cleaned_Weather/Daily_prep@IL_1950-2019_Apr-15_Oct-15.csv',\n",
        "                      sep=',', index_col='Date',na_values=-99)\n",
        "df_tmax = pd.read_csv('Illinois/Cleaned_Weather/Daily_tmax@IL_1950-2019_Apr-15_Oct-15.csv',\n",
        "                      sep=',', index_col='Date',na_values=-99)\n",
        "df_tmin = pd.read_csv('Illinois/Cleaned_Weather/Daily_tmin@IL_1950-2019_Apr-15_Oct-15.csv',\n",
        "                      sep=',', index_col='Date',na_values=-99)\n",
        "df_gdd = pd.read_csv('Illinois/Cleaned_Weather/Daily_gdd@IL_1950-2019_Apr-15_Oct-15.csv',\n",
        "                      sep=',', index_col='Date',na_values=-99)\n",
        "\n",
        "# Change the index 'Date' format to python datetime.date(yyyy,mm,dd) format\n",
        "date_index = [date(int(d.split('/')[2]),\n",
        "                   int(d.split('/')[1]),\n",
        "                   int(d.split('/')[0])) \n",
        "              for d in df_prep.index]\n",
        "df_prep.set_index(pd.Index(date_index),'Date', inplace=True)\n",
        "df_tmax.set_index(pd.Index(date_index),'Date', inplace=True)\n",
        "df_tmin.set_index(pd.Index(date_index),'Date', inplace=True)\n",
        "df_gdd.set_index(pd.Index(date_index),'Date', inplace=True)"
      ],
      "execution_count": null,
      "outputs": [
        {
          "output_type": "stream",
          "text": [
            "Go to this URL in a browser: https://accounts.google.com/o/oauth2/auth?client_id=947318989803-6bn6qk8qdgf4n4g3pfee6491hc0brc4i.apps.googleusercontent.com&redirect_uri=urn%3aietf%3awg%3aoauth%3a2.0%3aoob&response_type=code&scope=email%20https%3a%2f%2fwww.googleapis.com%2fauth%2fdocs.test%20https%3a%2f%2fwww.googleapis.com%2fauth%2fdrive%20https%3a%2f%2fwww.googleapis.com%2fauth%2fdrive.photos.readonly%20https%3a%2f%2fwww.googleapis.com%2fauth%2fpeopleapi.readonly\n",
            "\n",
            "Enter your authorization code:\n",
            "··········\n",
            "Mounted at /content/drive\n"
          ],
          "name": "stdout"
        }
      ]
    },
    {
      "cell_type": "code",
      "metadata": {
        "id": "qRU4-RkS_3w9"
      },
      "source": [
        "\n",
        "# Year  Counties SeasonalPrep    ....   ....\n",
        "Y = [i for i in range(1950, 2020)]\n",
        "Years = []\n",
        "Counties = []\n",
        "SeasonalPrep, SeasonalTmin, SeasonalTmax = [], [], []\n",
        "SeasonalAvgTmin, SeasonalAvgTmax = [], []\n",
        "WetDays, DaysA30, DaysB10, DaysB_2, GDD = [], [], [], [], []\n",
        "\n",
        "for y in Y:\n",
        "  Years.extend([y for i in range(len(list(df_prep.columns.values)))])\n",
        "  Counties.extend(list(df_prep.columns.values))\n",
        "  SeasonalPrep.extend(df_prep.loc[date(y,4,15):date(y,10,15),:].sum())\n",
        "  SeasonalTmin.extend(df_tmin.loc[date(y,4,15):date(y,10,15),:].min())\n",
        "  SeasonalTmax.extend(df_tmax.loc[date(y,4,15):date(y,10,15),:].max())\n",
        "  SeasonalAvgTmin.extend(df_tmin.loc[date(y,4,15):date(y,10,15),:].mean())\n",
        "  SeasonalAvgTmax.extend(df_tmax.loc[date(y,4,15):date(y,10,15),:].mean())\n",
        "  WetDays.extend(list(df_prep.loc[date(y,4,15):date(y,10,15),:][df_prep.loc[date(y,4,15):date(y,10,15),:] > 1].count()))\n",
        "  DaysA30.extend(list(df_tmax.loc[date(y,4,15):date(y,10,15),:][df_tmax.loc[date(y,4,15):date(y,10,15),:] > 30].count()))\n",
        "  DaysB10.extend(list(df_tmin.loc[date(y,4,15):date(y,10,15),:][df_tmin.loc[date(y,4,15):date(y,10,15),:] < 10].count()))\n",
        "  DaysB_2.extend(list(df_tmin.loc[date(y,4,15):date(y,10,15),:][df_tmin.loc[date(y,4,15):date(y,10,15),:] < -2].count()))\n",
        "  GDD.extend(df_gdd.loc[date(y,4,15):date(y,10,15),:].sum())\n",
        "\n",
        "df_Clim_Var = pd.DataFrame({'Year': Years,\n",
        "                            'County': Counties,\n",
        "                            'SeasonalPrep': SeasonalPrep,\n",
        "                            'SeasonalTmax': SeasonalTmax,\n",
        "                            'SeasonalTmin': SeasonalTmin,\n",
        "                            'SeasonalAvgTmax': SeasonalAvgTmax,\n",
        "                            'SeasonalAvgTmin': SeasonalAvgTmin,\n",
        "                            'WetDays': WetDays,\n",
        "                            'DaysA30': DaysA30,\n",
        "                            'DaysB10': DaysB10,\n",
        "                            'DaysB_2': DaysB_2,\n",
        "                            'GDD': GDD})\n",
        "# df_Clim_Var.to_csv('Illinois/Cleaned_Weather/Clim_Var@IL_1950-2019.csv')"
      ],
      "execution_count": null,
      "outputs": []
    },
    {
      "cell_type": "code",
      "metadata": {
        "id": "kIlDg_e4SI1A"
      },
      "source": [
        "df_soybean = pd.read_csv('Illinois/Soybean_Yield_1925-2019.csv',\n",
        "                      sep=',',na_values=-99)[['Year','County','Value']]\n",
        "df_corn=pd.read_csv('Illinois/Corn_Yield_1925-2019.csv',\n",
        "                      sep=',',na_values=-99)[['Year','County','Value']]\n",
        "df_Clim_Var= pd.merge(df_Clim_Var, df_soybean, how='left', on=['Year', 'County'])\n",
        "df_Clim_Var= pd.merge(df_Clim_Var, df_corn, how='left', on=['Year', 'County'],suffixes=['_soybean', '_corn'])\n",
        "df_Clim_Var.to_csv('Illinois/Cleaned_Weather/all_data@IL_1950-2019.csv',index=False)"
      ],
      "execution_count": null,
      "outputs": []
    },
    {
      "cell_type": "code",
      "metadata": {
        "id": "Cy1ay18I5zq0",
        "outputId": "33335c7e-d0d8-4b4a-bc4d-10c78d57bdb8",
        "colab": {
          "base_uri": "https://localhost:8080/",
          "height": 374
        }
      },
      "source": [
        "df_Clim_Var.info()"
      ],
      "execution_count": null,
      "outputs": [
        {
          "output_type": "stream",
          "text": [
            "<class 'pandas.core.frame.DataFrame'>\n",
            "Int64Index: 7140 entries, 0 to 7139\n",
            "Data columns (total 14 columns):\n",
            " #   Column           Non-Null Count  Dtype  \n",
            "---  ------           --------------  -----  \n",
            " 0   Year             7140 non-null   int64  \n",
            " 1   County           7140 non-null   object \n",
            " 2   SeasonalPrep     7140 non-null   float64\n",
            " 3   SeasonalTmax     7140 non-null   float64\n",
            " 4   SeasonalTmin     7140 non-null   float64\n",
            " 5   SeasonalAvgTmax  7140 non-null   float64\n",
            " 6   SeasonalAvgTmin  7140 non-null   float64\n",
            " 7   WetDays          7140 non-null   int64  \n",
            " 8   DaysA30          7140 non-null   int64  \n",
            " 9   DaysB10          7140 non-null   int64  \n",
            " 10  DaysB_2          7140 non-null   int64  \n",
            " 11  GDD              7140 non-null   float64\n",
            " 12  Value_soybean    7037 non-null   float64\n",
            " 13  Value_corn       7028 non-null   float64\n",
            "dtypes: float64(8), int64(5), object(1)\n",
            "memory usage: 836.7+ KB\n"
          ],
          "name": "stdout"
        }
      ]
    },
    {
      "cell_type": "code",
      "metadata": {
        "id": "y61Qy0CJ528E"
      },
      "source": [
        "df_Clim_Var[df_Clim_Var[\"Value_soybean\"].isnull()][[\"Year\",\"County\"]].values;"
      ],
      "execution_count": null,
      "outputs": []
    },
    {
      "cell_type": "code",
      "metadata": {
        "id": "LrB1YGfi68BQ"
      },
      "source": [
        "df_Clim_Var[df_Clim_Var[\"Value_corn\"].isnull()][[\"Year\",\"County\"]].values;"
      ],
      "execution_count": null,
      "outputs": []
    },
    {
      "cell_type": "markdown",
      "metadata": {
        "id": "J7rLQ7BlOmj9"
      },
      "source": [
        "### Adding latitude and longitude of counties' centroid as columns"
      ]
    },
    {
      "cell_type": "code",
      "metadata": {
        "id": "ri5UoXPG-AGE"
      },
      "source": [
        "gdf = gpd.read_file('Illinois/GIS Files/Illinois_Counties_GCS_WGS84.shp')\n",
        "adjacent={}\n",
        "Latitude=[]\n",
        "Longitude=[]\n",
        "for i in range(len(gdf.index)):\n",
        " Latitude.append(gdf.iloc[i].geometry.centroid.y)\n",
        " Longitude.append(gdf.iloc[i].geometry.centroid.x)\n",
        "df_county_lat = pd.DataFrame({'Latitude': Latitude,'Longitude':Longitude},\n",
        "                             index=gdf.iloc[:].COUNTY_NAM)"
      ],
      "execution_count": null,
      "outputs": []
    },
    {
      "cell_type": "code",
      "metadata": {
        "id": "pp5oc_mdESBt",
        "outputId": "c891a637-237e-49fb-d2b7-36cd55882698",
        "colab": {
          "base_uri": "https://localhost:8080/",
          "height": 204
        }
      },
      "source": [
        "df_county_lat['County'] = df_county_lat.index\n",
        "df_Clim_Var=pd.merge(df_Clim_Var,df_county_lat)\n",
        "\n",
        "df_Clim_Var.rename(columns = {'Value_soybean':'Soybean', 'Value_corn':'Corn'}, inplace=True)\n",
        "df_Clim_Var.head()"
      ],
      "execution_count": null,
      "outputs": [
        {
          "output_type": "execute_result",
          "data": {
            "text/html": [
              "<div>\n",
              "<style scoped>\n",
              "    .dataframe tbody tr th:only-of-type {\n",
              "        vertical-align: middle;\n",
              "    }\n",
              "\n",
              "    .dataframe tbody tr th {\n",
              "        vertical-align: top;\n",
              "    }\n",
              "\n",
              "    .dataframe thead th {\n",
              "        text-align: right;\n",
              "    }\n",
              "</style>\n",
              "<table border=\"1\" class=\"dataframe\">\n",
              "  <thead>\n",
              "    <tr style=\"text-align: right;\">\n",
              "      <th></th>\n",
              "      <th>Year</th>\n",
              "      <th>County</th>\n",
              "      <th>SeasonalPrep</th>\n",
              "      <th>SeasonalTmax</th>\n",
              "      <th>SeasonalTmin</th>\n",
              "      <th>SeasonalAvgTmax</th>\n",
              "      <th>SeasonalAvgTmin</th>\n",
              "      <th>WetDays</th>\n",
              "      <th>DaysA30</th>\n",
              "      <th>DaysB10</th>\n",
              "      <th>DaysB_2</th>\n",
              "      <th>GDD</th>\n",
              "      <th>Soybean</th>\n",
              "      <th>Corn</th>\n",
              "      <th>Latitude</th>\n",
              "      <th>Longitude</th>\n",
              "    </tr>\n",
              "  </thead>\n",
              "  <tbody>\n",
              "    <tr>\n",
              "      <th>0</th>\n",
              "      <td>1950</td>\n",
              "      <td>ADAMS</td>\n",
              "      <td>481.046667</td>\n",
              "      <td>35.023333</td>\n",
              "      <td>-0.991667</td>\n",
              "      <td>25.564627</td>\n",
              "      <td>13.324800</td>\n",
              "      <td>57</td>\n",
              "      <td>28</td>\n",
              "      <td>42</td>\n",
              "      <td>0</td>\n",
              "      <td>2708.500834</td>\n",
              "      <td>28.0</td>\n",
              "      <td>55.0</td>\n",
              "      <td>39.98785</td>\n",
              "      <td>-91.188437</td>\n",
              "    </tr>\n",
              "    <tr>\n",
              "      <th>1</th>\n",
              "      <td>1951</td>\n",
              "      <td>ADAMS</td>\n",
              "      <td>513.565000</td>\n",
              "      <td>36.751667</td>\n",
              "      <td>-2.735000</td>\n",
              "      <td>25.901047</td>\n",
              "      <td>14.245191</td>\n",
              "      <td>66</td>\n",
              "      <td>42</td>\n",
              "      <td>39</td>\n",
              "      <td>1</td>\n",
              "      <td>2792.585834</td>\n",
              "      <td>28.0</td>\n",
              "      <td>60.0</td>\n",
              "      <td>39.98785</td>\n",
              "      <td>-91.188437</td>\n",
              "    </tr>\n",
              "    <tr>\n",
              "      <th>2</th>\n",
              "      <td>1952</td>\n",
              "      <td>ADAMS</td>\n",
              "      <td>496.356667</td>\n",
              "      <td>38.963333</td>\n",
              "      <td>-3.333333</td>\n",
              "      <td>27.672204</td>\n",
              "      <td>14.533133</td>\n",
              "      <td>52</td>\n",
              "      <td>74</td>\n",
              "      <td>43</td>\n",
              "      <td>3</td>\n",
              "      <td>2917.287500</td>\n",
              "      <td>27.0</td>\n",
              "      <td>59.0</td>\n",
              "      <td>39.98785</td>\n",
              "      <td>-91.188437</td>\n",
              "    </tr>\n",
              "    <tr>\n",
              "      <th>3</th>\n",
              "      <td>1953</td>\n",
              "      <td>ADAMS</td>\n",
              "      <td>334.023333</td>\n",
              "      <td>38.981667</td>\n",
              "      <td>-3.941667</td>\n",
              "      <td>28.367377</td>\n",
              "      <td>14.761357</td>\n",
              "      <td>47</td>\n",
              "      <td>86</td>\n",
              "      <td>44</td>\n",
              "      <td>2</td>\n",
              "      <td>2947.965001</td>\n",
              "      <td>22.5</td>\n",
              "      <td>52.0</td>\n",
              "      <td>39.98785</td>\n",
              "      <td>-91.188437</td>\n",
              "    </tr>\n",
              "    <tr>\n",
              "      <th>4</th>\n",
              "      <td>1954</td>\n",
              "      <td>ADAMS</td>\n",
              "      <td>622.691667</td>\n",
              "      <td>43.956667</td>\n",
              "      <td>0.105000</td>\n",
              "      <td>28.192687</td>\n",
              "      <td>15.860492</td>\n",
              "      <td>67</td>\n",
              "      <td>82</td>\n",
              "      <td>35</td>\n",
              "      <td>0</td>\n",
              "      <td>3000.706667</td>\n",
              "      <td>25.5</td>\n",
              "      <td>46.0</td>\n",
              "      <td>39.98785</td>\n",
              "      <td>-91.188437</td>\n",
              "    </tr>\n",
              "  </tbody>\n",
              "</table>\n",
              "</div>"
            ],
            "text/plain": [
              "   Year County  SeasonalPrep  SeasonalTmax  ...  Soybean  Corn  Latitude  Longitude\n",
              "0  1950  ADAMS    481.046667     35.023333  ...     28.0  55.0  39.98785 -91.188437\n",
              "1  1951  ADAMS    513.565000     36.751667  ...     28.0  60.0  39.98785 -91.188437\n",
              "2  1952  ADAMS    496.356667     38.963333  ...     27.0  59.0  39.98785 -91.188437\n",
              "3  1953  ADAMS    334.023333     38.981667  ...     22.5  52.0  39.98785 -91.188437\n",
              "4  1954  ADAMS    622.691667     43.956667  ...     25.5  46.0  39.98785 -91.188437\n",
              "\n",
              "[5 rows x 16 columns]"
            ]
          },
          "metadata": {
            "tags": []
          },
          "execution_count": 11
        }
      ]
    },
    {
      "cell_type": "code",
      "metadata": {
        "id": "ZUvUsGMOklAu",
        "outputId": "f855bcea-e55e-4c5b-c6df-7ff59a87d251",
        "colab": {
          "base_uri": "https://localhost:8080/",
          "height": 204
        }
      },
      "source": [
        "col_name = df_Clim_Var.columns.to_list()\n",
        "reorder_col_name = col_name[:2] + col_name[-2:] + col_name[-4:-2] + col_name[2:-4]\n",
        "df_Clim_Var = df_Clim_Var[reorder_col_name]\n",
        "df_Clim_Var.head()"
      ],
      "execution_count": null,
      "outputs": [
        {
          "output_type": "execute_result",
          "data": {
            "text/html": [
              "<div>\n",
              "<style scoped>\n",
              "    .dataframe tbody tr th:only-of-type {\n",
              "        vertical-align: middle;\n",
              "    }\n",
              "\n",
              "    .dataframe tbody tr th {\n",
              "        vertical-align: top;\n",
              "    }\n",
              "\n",
              "    .dataframe thead th {\n",
              "        text-align: right;\n",
              "    }\n",
              "</style>\n",
              "<table border=\"1\" class=\"dataframe\">\n",
              "  <thead>\n",
              "    <tr style=\"text-align: right;\">\n",
              "      <th></th>\n",
              "      <th>Year</th>\n",
              "      <th>County</th>\n",
              "      <th>Latitude</th>\n",
              "      <th>Longitude</th>\n",
              "      <th>Soybean</th>\n",
              "      <th>Corn</th>\n",
              "      <th>SeasonalPrep</th>\n",
              "      <th>SeasonalTmax</th>\n",
              "      <th>SeasonalTmin</th>\n",
              "      <th>SeasonalAvgTmax</th>\n",
              "      <th>SeasonalAvgTmin</th>\n",
              "      <th>WetDays</th>\n",
              "      <th>DaysA30</th>\n",
              "      <th>DaysB10</th>\n",
              "      <th>DaysB_2</th>\n",
              "      <th>GDD</th>\n",
              "    </tr>\n",
              "  </thead>\n",
              "  <tbody>\n",
              "    <tr>\n",
              "      <th>0</th>\n",
              "      <td>1950</td>\n",
              "      <td>ADAMS</td>\n",
              "      <td>39.98785</td>\n",
              "      <td>-91.188437</td>\n",
              "      <td>28.0</td>\n",
              "      <td>55.0</td>\n",
              "      <td>481.046667</td>\n",
              "      <td>35.023333</td>\n",
              "      <td>-0.991667</td>\n",
              "      <td>25.564627</td>\n",
              "      <td>13.324800</td>\n",
              "      <td>57</td>\n",
              "      <td>28</td>\n",
              "      <td>42</td>\n",
              "      <td>0</td>\n",
              "      <td>2708.500834</td>\n",
              "    </tr>\n",
              "    <tr>\n",
              "      <th>1</th>\n",
              "      <td>1951</td>\n",
              "      <td>ADAMS</td>\n",
              "      <td>39.98785</td>\n",
              "      <td>-91.188437</td>\n",
              "      <td>28.0</td>\n",
              "      <td>60.0</td>\n",
              "      <td>513.565000</td>\n",
              "      <td>36.751667</td>\n",
              "      <td>-2.735000</td>\n",
              "      <td>25.901047</td>\n",
              "      <td>14.245191</td>\n",
              "      <td>66</td>\n",
              "      <td>42</td>\n",
              "      <td>39</td>\n",
              "      <td>1</td>\n",
              "      <td>2792.585834</td>\n",
              "    </tr>\n",
              "    <tr>\n",
              "      <th>2</th>\n",
              "      <td>1952</td>\n",
              "      <td>ADAMS</td>\n",
              "      <td>39.98785</td>\n",
              "      <td>-91.188437</td>\n",
              "      <td>27.0</td>\n",
              "      <td>59.0</td>\n",
              "      <td>496.356667</td>\n",
              "      <td>38.963333</td>\n",
              "      <td>-3.333333</td>\n",
              "      <td>27.672204</td>\n",
              "      <td>14.533133</td>\n",
              "      <td>52</td>\n",
              "      <td>74</td>\n",
              "      <td>43</td>\n",
              "      <td>3</td>\n",
              "      <td>2917.287500</td>\n",
              "    </tr>\n",
              "    <tr>\n",
              "      <th>3</th>\n",
              "      <td>1953</td>\n",
              "      <td>ADAMS</td>\n",
              "      <td>39.98785</td>\n",
              "      <td>-91.188437</td>\n",
              "      <td>22.5</td>\n",
              "      <td>52.0</td>\n",
              "      <td>334.023333</td>\n",
              "      <td>38.981667</td>\n",
              "      <td>-3.941667</td>\n",
              "      <td>28.367377</td>\n",
              "      <td>14.761357</td>\n",
              "      <td>47</td>\n",
              "      <td>86</td>\n",
              "      <td>44</td>\n",
              "      <td>2</td>\n",
              "      <td>2947.965001</td>\n",
              "    </tr>\n",
              "    <tr>\n",
              "      <th>4</th>\n",
              "      <td>1954</td>\n",
              "      <td>ADAMS</td>\n",
              "      <td>39.98785</td>\n",
              "      <td>-91.188437</td>\n",
              "      <td>25.5</td>\n",
              "      <td>46.0</td>\n",
              "      <td>622.691667</td>\n",
              "      <td>43.956667</td>\n",
              "      <td>0.105000</td>\n",
              "      <td>28.192687</td>\n",
              "      <td>15.860492</td>\n",
              "      <td>67</td>\n",
              "      <td>82</td>\n",
              "      <td>35</td>\n",
              "      <td>0</td>\n",
              "      <td>3000.706667</td>\n",
              "    </tr>\n",
              "  </tbody>\n",
              "</table>\n",
              "</div>"
            ],
            "text/plain": [
              "   Year County  Latitude  Longitude  ...  DaysA30  DaysB10  DaysB_2          GDD\n",
              "0  1950  ADAMS  39.98785 -91.188437  ...       28       42        0  2708.500834\n",
              "1  1951  ADAMS  39.98785 -91.188437  ...       42       39        1  2792.585834\n",
              "2  1952  ADAMS  39.98785 -91.188437  ...       74       43        3  2917.287500\n",
              "3  1953  ADAMS  39.98785 -91.188437  ...       86       44        2  2947.965001\n",
              "4  1954  ADAMS  39.98785 -91.188437  ...       82       35        0  3000.706667\n",
              "\n",
              "[5 rows x 16 columns]"
            ]
          },
          "metadata": {
            "tags": []
          },
          "execution_count": 12
        }
      ]
    },
    {
      "cell_type": "code",
      "metadata": {
        "id": "NOU3ssAnlm8k"
      },
      "source": [
        "df_Clim_Var.to_csv('Illinois/Cleaned_Weather/AnnualData_lat_lon@IL_1950-2019.csv',index=False)"
      ],
      "execution_count": null,
      "outputs": []
    },
    {
      "cell_type": "code",
      "metadata": {
        "id": "gdJd7LBMCfzm"
      },
      "source": [
        ""
      ],
      "execution_count": null,
      "outputs": []
    }
  ]
}